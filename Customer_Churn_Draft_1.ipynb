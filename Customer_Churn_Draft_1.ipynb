{
 "cells": [
  {
   "cell_type": "markdown",
   "metadata": {},
   "source": [
    "# Customer Churn Prediction"
   ]
  },
  {
   "cell_type": "code",
   "execution_count": 1,
   "metadata": {},
   "outputs": [],
   "source": [
    "import pandas as pd\n",
    "import seaborn as sns\n",
    "import matplotlib.pyplot as plt\n",
    "%matplotlib inline\n",
    "from sklearn.preprocessing import LabelEncoder\n",
    "from sklearn.model_selection import train_test_split\n",
    "from sklearn.linear_model import LogisticRegression\n",
    "from sklearn.tree import DecisionTreeClassifier\n",
    "from sklearn.ensemble import RandomForestClassifier\n",
    "from sklearn.neighbors import KNeighborsClassifier\n",
    "from sklearn.ensemble import AdaBoostClassifier\n",
    "from sklearn.ensemble import GradientBoostingClassifier\n",
    "from xgboost import XGBClassifier\n",
    "from sklearn.model_selection import cross_val_score\n",
    "from sklearn import model_selection\n",
    "from sklearn.metrics import classification_report\n",
    "from itertools import product\n",
    "from sklearn.metrics import accuracy_score, confusion_matrix"
   ]
  },
  {
   "cell_type": "code",
   "execution_count": 2,
   "metadata": {},
   "outputs": [],
   "source": [
    "df = pd.read_csv('Churn_Modelling.csv')"
   ]
  },
  {
   "cell_type": "code",
   "execution_count": 3,
   "metadata": {
    "scrolled": true
   },
   "outputs": [
    {
     "data": {
      "text/html": [
       "<div>\n",
       "<style scoped>\n",
       "    .dataframe tbody tr th:only-of-type {\n",
       "        vertical-align: middle;\n",
       "    }\n",
       "\n",
       "    .dataframe tbody tr th {\n",
       "        vertical-align: top;\n",
       "    }\n",
       "\n",
       "    .dataframe thead th {\n",
       "        text-align: right;\n",
       "    }\n",
       "</style>\n",
       "<table border=\"1\" class=\"dataframe\">\n",
       "  <thead>\n",
       "    <tr style=\"text-align: right;\">\n",
       "      <th></th>\n",
       "      <th>RowNumber</th>\n",
       "      <th>CustomerId</th>\n",
       "      <th>Surname</th>\n",
       "      <th>CreditScore</th>\n",
       "      <th>Geography</th>\n",
       "      <th>Gender</th>\n",
       "      <th>Age</th>\n",
       "      <th>Tenure</th>\n",
       "      <th>Balance</th>\n",
       "      <th>NumOfProducts</th>\n",
       "      <th>HasCrCard</th>\n",
       "      <th>IsActiveMember</th>\n",
       "      <th>EstimatedSalary</th>\n",
       "      <th>Exited</th>\n",
       "    </tr>\n",
       "  </thead>\n",
       "  <tbody>\n",
       "    <tr>\n",
       "      <th>0</th>\n",
       "      <td>1</td>\n",
       "      <td>15634602</td>\n",
       "      <td>Hargrave</td>\n",
       "      <td>619</td>\n",
       "      <td>France</td>\n",
       "      <td>Female</td>\n",
       "      <td>42</td>\n",
       "      <td>2</td>\n",
       "      <td>0.00</td>\n",
       "      <td>1</td>\n",
       "      <td>1</td>\n",
       "      <td>1</td>\n",
       "      <td>101348.88</td>\n",
       "      <td>1</td>\n",
       "    </tr>\n",
       "    <tr>\n",
       "      <th>1</th>\n",
       "      <td>2</td>\n",
       "      <td>15647311</td>\n",
       "      <td>Hill</td>\n",
       "      <td>608</td>\n",
       "      <td>Spain</td>\n",
       "      <td>Female</td>\n",
       "      <td>41</td>\n",
       "      <td>1</td>\n",
       "      <td>83807.86</td>\n",
       "      <td>1</td>\n",
       "      <td>0</td>\n",
       "      <td>1</td>\n",
       "      <td>112542.58</td>\n",
       "      <td>0</td>\n",
       "    </tr>\n",
       "    <tr>\n",
       "      <th>2</th>\n",
       "      <td>3</td>\n",
       "      <td>15619304</td>\n",
       "      <td>Onio</td>\n",
       "      <td>502</td>\n",
       "      <td>France</td>\n",
       "      <td>Female</td>\n",
       "      <td>42</td>\n",
       "      <td>8</td>\n",
       "      <td>159660.80</td>\n",
       "      <td>3</td>\n",
       "      <td>1</td>\n",
       "      <td>0</td>\n",
       "      <td>113931.57</td>\n",
       "      <td>1</td>\n",
       "    </tr>\n",
       "    <tr>\n",
       "      <th>3</th>\n",
       "      <td>4</td>\n",
       "      <td>15701354</td>\n",
       "      <td>Boni</td>\n",
       "      <td>699</td>\n",
       "      <td>France</td>\n",
       "      <td>Female</td>\n",
       "      <td>39</td>\n",
       "      <td>1</td>\n",
       "      <td>0.00</td>\n",
       "      <td>2</td>\n",
       "      <td>0</td>\n",
       "      <td>0</td>\n",
       "      <td>93826.63</td>\n",
       "      <td>0</td>\n",
       "    </tr>\n",
       "    <tr>\n",
       "      <th>4</th>\n",
       "      <td>5</td>\n",
       "      <td>15737888</td>\n",
       "      <td>Mitchell</td>\n",
       "      <td>850</td>\n",
       "      <td>Spain</td>\n",
       "      <td>Female</td>\n",
       "      <td>43</td>\n",
       "      <td>2</td>\n",
       "      <td>125510.82</td>\n",
       "      <td>1</td>\n",
       "      <td>1</td>\n",
       "      <td>1</td>\n",
       "      <td>79084.10</td>\n",
       "      <td>0</td>\n",
       "    </tr>\n",
       "  </tbody>\n",
       "</table>\n",
       "</div>"
      ],
      "text/plain": [
       "   RowNumber  CustomerId   Surname  CreditScore Geography  Gender  Age  \\\n",
       "0          1    15634602  Hargrave          619    France  Female   42   \n",
       "1          2    15647311      Hill          608     Spain  Female   41   \n",
       "2          3    15619304      Onio          502    France  Female   42   \n",
       "3          4    15701354      Boni          699    France  Female   39   \n",
       "4          5    15737888  Mitchell          850     Spain  Female   43   \n",
       "\n",
       "   Tenure    Balance  NumOfProducts  HasCrCard  IsActiveMember  \\\n",
       "0       2       0.00              1          1               1   \n",
       "1       1   83807.86              1          0               1   \n",
       "2       8  159660.80              3          1               0   \n",
       "3       1       0.00              2          0               0   \n",
       "4       2  125510.82              1          1               1   \n",
       "\n",
       "   EstimatedSalary  Exited  \n",
       "0        101348.88       1  \n",
       "1        112542.58       0  \n",
       "2        113931.57       1  \n",
       "3         93826.63       0  \n",
       "4         79084.10       0  "
      ]
     },
     "execution_count": 3,
     "metadata": {},
     "output_type": "execute_result"
    }
   ],
   "source": [
    "df.head()"
   ]
  },
  {
   "cell_type": "code",
   "execution_count": 4,
   "metadata": {},
   "outputs": [
    {
     "name": "stdout",
     "output_type": "stream",
     "text": [
      "<class 'pandas.core.frame.DataFrame'>\n",
      "RangeIndex: 10000 entries, 0 to 9999\n",
      "Data columns (total 14 columns):\n",
      " #   Column           Non-Null Count  Dtype  \n",
      "---  ------           --------------  -----  \n",
      " 0   RowNumber        10000 non-null  int64  \n",
      " 1   CustomerId       10000 non-null  int64  \n",
      " 2   Surname          10000 non-null  object \n",
      " 3   CreditScore      10000 non-null  int64  \n",
      " 4   Geography        10000 non-null  object \n",
      " 5   Gender           10000 non-null  object \n",
      " 6   Age              10000 non-null  int64  \n",
      " 7   Tenure           10000 non-null  int64  \n",
      " 8   Balance          10000 non-null  float64\n",
      " 9   NumOfProducts    10000 non-null  int64  \n",
      " 10  HasCrCard        10000 non-null  int64  \n",
      " 11  IsActiveMember   10000 non-null  int64  \n",
      " 12  EstimatedSalary  10000 non-null  float64\n",
      " 13  Exited           10000 non-null  int64  \n",
      "dtypes: float64(2), int64(9), object(3)\n",
      "memory usage: 1.1+ MB\n"
     ]
    }
   ],
   "source": [
    "df.info()"
   ]
  },
  {
   "cell_type": "code",
   "execution_count": 5,
   "metadata": {},
   "outputs": [
    {
     "data": {
      "text/html": [
       "<div>\n",
       "<style scoped>\n",
       "    .dataframe tbody tr th:only-of-type {\n",
       "        vertical-align: middle;\n",
       "    }\n",
       "\n",
       "    .dataframe tbody tr th {\n",
       "        vertical-align: top;\n",
       "    }\n",
       "\n",
       "    .dataframe thead th {\n",
       "        text-align: right;\n",
       "    }\n",
       "</style>\n",
       "<table border=\"1\" class=\"dataframe\">\n",
       "  <thead>\n",
       "    <tr style=\"text-align: right;\">\n",
       "      <th></th>\n",
       "      <th>RowNumber</th>\n",
       "      <th>CustomerId</th>\n",
       "      <th>CreditScore</th>\n",
       "      <th>Age</th>\n",
       "      <th>Tenure</th>\n",
       "      <th>Balance</th>\n",
       "      <th>NumOfProducts</th>\n",
       "      <th>HasCrCard</th>\n",
       "      <th>IsActiveMember</th>\n",
       "      <th>EstimatedSalary</th>\n",
       "      <th>Exited</th>\n",
       "    </tr>\n",
       "  </thead>\n",
       "  <tbody>\n",
       "    <tr>\n",
       "      <th>count</th>\n",
       "      <td>10000.00000</td>\n",
       "      <td>1.000000e+04</td>\n",
       "      <td>10000.000000</td>\n",
       "      <td>10000.000000</td>\n",
       "      <td>10000.000000</td>\n",
       "      <td>10000.000000</td>\n",
       "      <td>10000.000000</td>\n",
       "      <td>10000.00000</td>\n",
       "      <td>10000.000000</td>\n",
       "      <td>10000.000000</td>\n",
       "      <td>10000.000000</td>\n",
       "    </tr>\n",
       "    <tr>\n",
       "      <th>mean</th>\n",
       "      <td>5000.50000</td>\n",
       "      <td>1.569094e+07</td>\n",
       "      <td>650.528800</td>\n",
       "      <td>38.921800</td>\n",
       "      <td>5.012800</td>\n",
       "      <td>76485.889288</td>\n",
       "      <td>1.530200</td>\n",
       "      <td>0.70550</td>\n",
       "      <td>0.515100</td>\n",
       "      <td>100090.239881</td>\n",
       "      <td>0.203700</td>\n",
       "    </tr>\n",
       "    <tr>\n",
       "      <th>std</th>\n",
       "      <td>2886.89568</td>\n",
       "      <td>7.193619e+04</td>\n",
       "      <td>96.653299</td>\n",
       "      <td>10.487806</td>\n",
       "      <td>2.892174</td>\n",
       "      <td>62397.405202</td>\n",
       "      <td>0.581654</td>\n",
       "      <td>0.45584</td>\n",
       "      <td>0.499797</td>\n",
       "      <td>57510.492818</td>\n",
       "      <td>0.402769</td>\n",
       "    </tr>\n",
       "    <tr>\n",
       "      <th>min</th>\n",
       "      <td>1.00000</td>\n",
       "      <td>1.556570e+07</td>\n",
       "      <td>350.000000</td>\n",
       "      <td>18.000000</td>\n",
       "      <td>0.000000</td>\n",
       "      <td>0.000000</td>\n",
       "      <td>1.000000</td>\n",
       "      <td>0.00000</td>\n",
       "      <td>0.000000</td>\n",
       "      <td>11.580000</td>\n",
       "      <td>0.000000</td>\n",
       "    </tr>\n",
       "    <tr>\n",
       "      <th>25%</th>\n",
       "      <td>2500.75000</td>\n",
       "      <td>1.562853e+07</td>\n",
       "      <td>584.000000</td>\n",
       "      <td>32.000000</td>\n",
       "      <td>3.000000</td>\n",
       "      <td>0.000000</td>\n",
       "      <td>1.000000</td>\n",
       "      <td>0.00000</td>\n",
       "      <td>0.000000</td>\n",
       "      <td>51002.110000</td>\n",
       "      <td>0.000000</td>\n",
       "    </tr>\n",
       "    <tr>\n",
       "      <th>50%</th>\n",
       "      <td>5000.50000</td>\n",
       "      <td>1.569074e+07</td>\n",
       "      <td>652.000000</td>\n",
       "      <td>37.000000</td>\n",
       "      <td>5.000000</td>\n",
       "      <td>97198.540000</td>\n",
       "      <td>1.000000</td>\n",
       "      <td>1.00000</td>\n",
       "      <td>1.000000</td>\n",
       "      <td>100193.915000</td>\n",
       "      <td>0.000000</td>\n",
       "    </tr>\n",
       "    <tr>\n",
       "      <th>75%</th>\n",
       "      <td>7500.25000</td>\n",
       "      <td>1.575323e+07</td>\n",
       "      <td>718.000000</td>\n",
       "      <td>44.000000</td>\n",
       "      <td>7.000000</td>\n",
       "      <td>127644.240000</td>\n",
       "      <td>2.000000</td>\n",
       "      <td>1.00000</td>\n",
       "      <td>1.000000</td>\n",
       "      <td>149388.247500</td>\n",
       "      <td>0.000000</td>\n",
       "    </tr>\n",
       "    <tr>\n",
       "      <th>max</th>\n",
       "      <td>10000.00000</td>\n",
       "      <td>1.581569e+07</td>\n",
       "      <td>850.000000</td>\n",
       "      <td>92.000000</td>\n",
       "      <td>10.000000</td>\n",
       "      <td>250898.090000</td>\n",
       "      <td>4.000000</td>\n",
       "      <td>1.00000</td>\n",
       "      <td>1.000000</td>\n",
       "      <td>199992.480000</td>\n",
       "      <td>1.000000</td>\n",
       "    </tr>\n",
       "  </tbody>\n",
       "</table>\n",
       "</div>"
      ],
      "text/plain": [
       "         RowNumber    CustomerId   CreditScore           Age        Tenure  \\\n",
       "count  10000.00000  1.000000e+04  10000.000000  10000.000000  10000.000000   \n",
       "mean    5000.50000  1.569094e+07    650.528800     38.921800      5.012800   \n",
       "std     2886.89568  7.193619e+04     96.653299     10.487806      2.892174   \n",
       "min        1.00000  1.556570e+07    350.000000     18.000000      0.000000   \n",
       "25%     2500.75000  1.562853e+07    584.000000     32.000000      3.000000   \n",
       "50%     5000.50000  1.569074e+07    652.000000     37.000000      5.000000   \n",
       "75%     7500.25000  1.575323e+07    718.000000     44.000000      7.000000   \n",
       "max    10000.00000  1.581569e+07    850.000000     92.000000     10.000000   \n",
       "\n",
       "             Balance  NumOfProducts    HasCrCard  IsActiveMember  \\\n",
       "count   10000.000000   10000.000000  10000.00000    10000.000000   \n",
       "mean    76485.889288       1.530200      0.70550        0.515100   \n",
       "std     62397.405202       0.581654      0.45584        0.499797   \n",
       "min         0.000000       1.000000      0.00000        0.000000   \n",
       "25%         0.000000       1.000000      0.00000        0.000000   \n",
       "50%     97198.540000       1.000000      1.00000        1.000000   \n",
       "75%    127644.240000       2.000000      1.00000        1.000000   \n",
       "max    250898.090000       4.000000      1.00000        1.000000   \n",
       "\n",
       "       EstimatedSalary        Exited  \n",
       "count     10000.000000  10000.000000  \n",
       "mean     100090.239881      0.203700  \n",
       "std       57510.492818      0.402769  \n",
       "min          11.580000      0.000000  \n",
       "25%       51002.110000      0.000000  \n",
       "50%      100193.915000      0.000000  \n",
       "75%      149388.247500      0.000000  \n",
       "max      199992.480000      1.000000  "
      ]
     },
     "execution_count": 5,
     "metadata": {},
     "output_type": "execute_result"
    }
   ],
   "source": [
    "df.describe()"
   ]
  },
  {
   "cell_type": "code",
   "execution_count": 6,
   "metadata": {},
   "outputs": [
    {
     "data": {
      "text/plain": [
       "(10000, 14)"
      ]
     },
     "execution_count": 6,
     "metadata": {},
     "output_type": "execute_result"
    }
   ],
   "source": [
    "df.shape"
   ]
  },
  {
   "cell_type": "code",
   "execution_count": 7,
   "metadata": {},
   "outputs": [
    {
     "name": "stdout",
     "output_type": "stream",
     "text": [
      "Categorical variables:\n",
      "['Surname', 'Geography', 'Gender']\n",
      "Numerical variables:\n",
      "['RowNumber', 'CustomerId', 'CreditScore', 'Age', 'Tenure', 'Balance', 'NumOfProducts', 'HasCrCard', 'IsActiveMember', 'EstimatedSalary', 'Exited']\n"
     ]
    }
   ],
   "source": [
    "s = (df.dtypes == 'object')\n",
    "object_cols = list(s[s].index)\n",
    "\n",
    "print(\"Categorical variables:\")\n",
    "print(object_cols)\n",
    "\n",
    "n = (df.dtypes != 'object')\n",
    "num_cols = list(n[n].index)\n",
    "\n",
    "print(\"Numerical variables:\")\n",
    "print(num_cols)"
   ]
  },
  {
   "cell_type": "code",
   "execution_count": 8,
   "metadata": {},
   "outputs": [
    {
     "name": "stdout",
     "output_type": "stream",
     "text": [
      "['France' 'Spain' 'Germany']\n",
      "['Female' 'Male']\n"
     ]
    }
   ],
   "source": [
    "print(df['Geography'].unique())\n",
    "print(df['Gender'].unique())"
   ]
  },
  {
   "cell_type": "code",
   "execution_count": 9,
   "metadata": {},
   "outputs": [
    {
     "data": {
      "text/plain": [
       "RowNumber          0\n",
       "CustomerId         0\n",
       "Surname            0\n",
       "CreditScore        0\n",
       "Geography          0\n",
       "Gender             0\n",
       "Age                0\n",
       "Tenure             0\n",
       "Balance            0\n",
       "NumOfProducts      0\n",
       "HasCrCard          0\n",
       "IsActiveMember     0\n",
       "EstimatedSalary    0\n",
       "Exited             0\n",
       "dtype: int64"
      ]
     },
     "execution_count": 9,
     "metadata": {},
     "output_type": "execute_result"
    }
   ],
   "source": [
    "df.isnull().sum()"
   ]
  },
  {
   "cell_type": "code",
   "execution_count": 10,
   "metadata": {},
   "outputs": [],
   "source": [
    "# Including only Potential Predictors as independent varibles\n",
    "df1 = df[['CreditScore', 'Geography', 'Gender', 'Age', 'Tenure', 'Balance', 'NumOfProducts', 'HasCrCard', 'IsActiveMember', 'EstimatedSalary', 'Exited']]"
   ]
  },
  {
   "cell_type": "code",
   "execution_count": 11,
   "metadata": {},
   "outputs": [
    {
     "data": {
      "text/html": [
       "<div>\n",
       "<style scoped>\n",
       "    .dataframe tbody tr th:only-of-type {\n",
       "        vertical-align: middle;\n",
       "    }\n",
       "\n",
       "    .dataframe tbody tr th {\n",
       "        vertical-align: top;\n",
       "    }\n",
       "\n",
       "    .dataframe thead th {\n",
       "        text-align: right;\n",
       "    }\n",
       "</style>\n",
       "<table border=\"1\" class=\"dataframe\">\n",
       "  <thead>\n",
       "    <tr style=\"text-align: right;\">\n",
       "      <th></th>\n",
       "      <th>CreditScore</th>\n",
       "      <th>Geography</th>\n",
       "      <th>Gender</th>\n",
       "      <th>Age</th>\n",
       "      <th>Tenure</th>\n",
       "      <th>Balance</th>\n",
       "      <th>NumOfProducts</th>\n",
       "      <th>HasCrCard</th>\n",
       "      <th>IsActiveMember</th>\n",
       "      <th>EstimatedSalary</th>\n",
       "      <th>Exited</th>\n",
       "    </tr>\n",
       "  </thead>\n",
       "  <tbody>\n",
       "    <tr>\n",
       "      <th>0</th>\n",
       "      <td>619</td>\n",
       "      <td>France</td>\n",
       "      <td>Female</td>\n",
       "      <td>42</td>\n",
       "      <td>2</td>\n",
       "      <td>0.00</td>\n",
       "      <td>1</td>\n",
       "      <td>1</td>\n",
       "      <td>1</td>\n",
       "      <td>101348.88</td>\n",
       "      <td>1</td>\n",
       "    </tr>\n",
       "    <tr>\n",
       "      <th>1</th>\n",
       "      <td>608</td>\n",
       "      <td>Spain</td>\n",
       "      <td>Female</td>\n",
       "      <td>41</td>\n",
       "      <td>1</td>\n",
       "      <td>83807.86</td>\n",
       "      <td>1</td>\n",
       "      <td>0</td>\n",
       "      <td>1</td>\n",
       "      <td>112542.58</td>\n",
       "      <td>0</td>\n",
       "    </tr>\n",
       "    <tr>\n",
       "      <th>2</th>\n",
       "      <td>502</td>\n",
       "      <td>France</td>\n",
       "      <td>Female</td>\n",
       "      <td>42</td>\n",
       "      <td>8</td>\n",
       "      <td>159660.80</td>\n",
       "      <td>3</td>\n",
       "      <td>1</td>\n",
       "      <td>0</td>\n",
       "      <td>113931.57</td>\n",
       "      <td>1</td>\n",
       "    </tr>\n",
       "    <tr>\n",
       "      <th>3</th>\n",
       "      <td>699</td>\n",
       "      <td>France</td>\n",
       "      <td>Female</td>\n",
       "      <td>39</td>\n",
       "      <td>1</td>\n",
       "      <td>0.00</td>\n",
       "      <td>2</td>\n",
       "      <td>0</td>\n",
       "      <td>0</td>\n",
       "      <td>93826.63</td>\n",
       "      <td>0</td>\n",
       "    </tr>\n",
       "    <tr>\n",
       "      <th>4</th>\n",
       "      <td>850</td>\n",
       "      <td>Spain</td>\n",
       "      <td>Female</td>\n",
       "      <td>43</td>\n",
       "      <td>2</td>\n",
       "      <td>125510.82</td>\n",
       "      <td>1</td>\n",
       "      <td>1</td>\n",
       "      <td>1</td>\n",
       "      <td>79084.10</td>\n",
       "      <td>0</td>\n",
       "    </tr>\n",
       "  </tbody>\n",
       "</table>\n",
       "</div>"
      ],
      "text/plain": [
       "   CreditScore Geography  Gender  Age  Tenure    Balance  NumOfProducts  \\\n",
       "0          619    France  Female   42       2       0.00              1   \n",
       "1          608     Spain  Female   41       1   83807.86              1   \n",
       "2          502    France  Female   42       8  159660.80              3   \n",
       "3          699    France  Female   39       1       0.00              2   \n",
       "4          850     Spain  Female   43       2  125510.82              1   \n",
       "\n",
       "   HasCrCard  IsActiveMember  EstimatedSalary  Exited  \n",
       "0          1               1        101348.88       1  \n",
       "1          0               1        112542.58       0  \n",
       "2          1               0        113931.57       1  \n",
       "3          0               0         93826.63       0  \n",
       "4          1               1         79084.10       0  "
      ]
     },
     "execution_count": 11,
     "metadata": {},
     "output_type": "execute_result"
    }
   ],
   "source": [
    "df1.head()"
   ]
  },
  {
   "cell_type": "code",
   "execution_count": 12,
   "metadata": {},
   "outputs": [
    {
     "data": {
      "text/plain": [
       "<AxesSubplot:xlabel='IsActiveMember', ylabel='count'>"
      ]
     },
     "execution_count": 12,
     "metadata": {},
     "output_type": "execute_result"
    },
    {
     "data": {
      "image/png": "[encoded data removed]",
      "text/plain": [
       "<Figure size 1440x864 with 4 Axes>"
      ]
     },
     "metadata": {
      "needs_background": "light"
     },
     "output_type": "display_data"
    }
   ],
   "source": [
    "fig, axarr = plt.subplots(2, 2, figsize=(20, 12))\n",
    "sns.countplot(x='Geography', hue = 'Exited',data = df1, ax=axarr[0][0])\n",
    "sns.countplot(x='Gender', hue = 'Exited',data = df1, ax=axarr[0][1])\n",
    "sns.countplot(x='HasCrCard', hue = 'Exited',data = df1, ax=axarr[1][0])\n",
    "sns.countplot(x='IsActiveMember', hue = 'Exited',data = df1, ax=axarr[1][1])"
   ]
  },
  {
   "cell_type": "code",
   "execution_count": 13,
   "metadata": {},
   "outputs": [
    {
     "data": {
      "text/plain": [
       "<AxesSubplot:xlabel='Exited', ylabel='EstimatedSalary'>"
      ]
     },
     "execution_count": 13,
     "metadata": {},
     "output_type": "execute_result"
    },
    {
     "data": {
      "image/png": "[encoded data removed]",
      "text/plain": [
       "<Figure size 1440x864 with 6 Axes>"
      ]
     },
     "metadata": {
      "needs_background": "light"
     },
     "output_type": "display_data"
    }
   ],
   "source": [
    "fig, axarr = plt.subplots(3, 2, figsize=(20, 12))\n",
    "sns.boxplot(y='CreditScore',x = 'Exited', hue = 'Exited',data = df1, ax=axarr[0][0])\n",
    "sns.boxplot(y='Age',x = 'Exited', hue = 'Exited',data = df1 , ax=axarr[0][1])\n",
    "sns.boxplot(y='Tenure',x = 'Exited', hue = 'Exited',data = df1, ax=axarr[1][0])\n",
    "sns.boxplot(y='Balance',x = 'Exited', hue = 'Exited',data = df1, ax=axarr[1][1])\n",
    "sns.boxplot(y='NumOfProducts',x = 'Exited', hue = 'Exited',data = df1, ax=axarr[2][0])\n",
    "sns.boxplot(y='EstimatedSalary',x = 'Exited', hue = 'Exited',data = df1, ax=axarr[2][1])"
   ]
  },
  {
   "cell_type": "code",
   "execution_count": 14,
   "metadata": {},
   "outputs": [
    {
     "data": {
      "text/plain": [
       "<AxesSubplot:>"
      ]
     },
     "execution_count": 14,
     "metadata": {},
     "output_type": "execute_result"
    },
    {
     "data": {
      "image/png": "[encoded data removed]",
      "text/plain": [
       "<Figure size 1440x1440 with 2 Axes>"
      ]
     },
     "metadata": {
      "needs_background": "light"
     },
     "output_type": "display_data"
    }
   ],
   "source": [
    "# Plotting The Correlations between all the features\n",
    "corrmat = df1.corr()\n",
    "top_corr_features = corrmat.index\n",
    "plt.figure(figsize=(20,20))\n",
    "sns.heatmap(df1[top_corr_features].corr(), annot=True, cmap='RdYlGn')"
   ]
  },
  {
   "cell_type": "code",
   "execution_count": 15,
   "metadata": {},
   "outputs": [
    {
     "data": {
      "image/png": "[encoded data removed]",
      "text/plain": [
       "<Figure size 360x360 with 1 Axes>"
      ]
     },
     "metadata": {
      "needs_background": "light"
     },
     "output_type": "display_data"
    }
   ],
   "source": [
    "colors = ['#00A5E0', '#DD403A']\n",
    "label_size = 17\n",
    "fig = plt.figure(figsize = (5, 5))\n",
    "sns.countplot(x = 'Exited', data = df1, palette = colors)\n",
    "\n",
    "for index, value in enumerate(df1['Exited'].value_counts()):\n",
    "    label =  '{}%'.format(round( (value/df1['Exited'].shape[0])*100, 2)) \n",
    "    plt.annotate(label, xy = (index - 0.18, value - 800), color = 'w', fontweight = 'bold', size = label_size)\n",
    "\n",
    "plt.title('Number of Retained and Churned Customers')\n",
    "plt.xticks([0, 1], ['Remained', 'Churned'])\n",
    "plt.xlabel('Status')\n",
    "plt.ylabel('Count');"
   ]
  },
  {
   "cell_type": "code",
   "execution_count": 16,
   "metadata": {},
   "outputs": [
    {
     "data": {
      "image/png": "[encoded data removed]",
      "text/plain": [
       "<Figure size 720x576 with 1 Axes>"
      ]
     },
     "metadata": {},
     "output_type": "display_data"
    }
   ],
   "source": [
    "labels = 'Exited', 'Retained'\n",
    "sizes = [df1.Exited[df1['Exited']==1].count(), df1.Exited[df1['Exited']==0].count()]\n",
    "explode = (0, 0.1)\n",
    "fig1, ax1 = plt.subplots(figsize=(10, 8))\n",
    "ax1.pie(sizes, explode=explode, labels=labels, autopct='%1.1f%%',\n",
    "        shadow=True, startangle=90)\n",
    "ax1.axis('equal')\n",
    "plt.title(\"Proportion of customer churned and retained\", size = 20)\n",
    "plt.show()"
   ]
  },
  {
   "cell_type": "code",
   "execution_count": 17,
   "metadata": {},
   "outputs": [
    {
     "name": "stderr",
     "output_type": "stream",
     "text": [
      "C:\\Users\\User\\anaconda3\\lib\\site-packages\\pandas\\core\\indexing.py:1745: SettingWithCopyWarning: \n",
      "A value is trying to be set on a copy of a slice from a DataFrame.\n",
      "Try using .loc[row_indexer,col_indexer] = value instead\n",
      "\n",
      "See the caveats in the documentation: https://pandas.pydata.org/pandas-docs/stable/user_guide/indexing.html#returning-a-view-versus-a-copy\n",
      "  isetter(ilocs[0], value)\n"
     ]
    }
   ],
   "source": [
    "le=LabelEncoder()\n",
    "for i,v in enumerate([ 'Geography', 'Gender']):\n",
    "\n",
    "    df1.loc[:,v]=le.fit_transform(df1.loc[:,v])\n",
    "    df_LE = df1.copy()"
   ]
  },
  {
   "cell_type": "code",
   "execution_count": 18,
   "metadata": {
    "scrolled": true
   },
   "outputs": [
    {
     "data": {
      "text/html": [
       "<div>\n",
       "<style scoped>\n",
       "    .dataframe tbody tr th:only-of-type {\n",
       "        vertical-align: middle;\n",
       "    }\n",
       "\n",
       "    .dataframe tbody tr th {\n",
       "        vertical-align: top;\n",
       "    }\n",
       "\n",
       "    .dataframe thead th {\n",
       "        text-align: right;\n",
       "    }\n",
       "</style>\n",
       "<table border=\"1\" class=\"dataframe\">\n",
       "  <thead>\n",
       "    <tr style=\"text-align: right;\">\n",
       "      <th></th>\n",
       "      <th>CreditScore</th>\n",
       "      <th>Geography</th>\n",
       "      <th>Gender</th>\n",
       "      <th>Age</th>\n",
       "      <th>Tenure</th>\n",
       "      <th>Balance</th>\n",
       "      <th>NumOfProducts</th>\n",
       "      <th>HasCrCard</th>\n",
       "      <th>IsActiveMember</th>\n",
       "      <th>EstimatedSalary</th>\n",
       "      <th>Exited</th>\n",
       "    </tr>\n",
       "  </thead>\n",
       "  <tbody>\n",
       "    <tr>\n",
       "      <th>0</th>\n",
       "      <td>619</td>\n",
       "      <td>0</td>\n",
       "      <td>0</td>\n",
       "      <td>42</td>\n",
       "      <td>2</td>\n",
       "      <td>0.00</td>\n",
       "      <td>1</td>\n",
       "      <td>1</td>\n",
       "      <td>1</td>\n",
       "      <td>101348.88</td>\n",
       "      <td>1</td>\n",
       "    </tr>\n",
       "    <tr>\n",
       "      <th>1</th>\n",
       "      <td>608</td>\n",
       "      <td>2</td>\n",
       "      <td>0</td>\n",
       "      <td>41</td>\n",
       "      <td>1</td>\n",
       "      <td>83807.86</td>\n",
       "      <td>1</td>\n",
       "      <td>0</td>\n",
       "      <td>1</td>\n",
       "      <td>112542.58</td>\n",
       "      <td>0</td>\n",
       "    </tr>\n",
       "    <tr>\n",
       "      <th>2</th>\n",
       "      <td>502</td>\n",
       "      <td>0</td>\n",
       "      <td>0</td>\n",
       "      <td>42</td>\n",
       "      <td>8</td>\n",
       "      <td>159660.80</td>\n",
       "      <td>3</td>\n",
       "      <td>1</td>\n",
       "      <td>0</td>\n",
       "      <td>113931.57</td>\n",
       "      <td>1</td>\n",
       "    </tr>\n",
       "    <tr>\n",
       "      <th>3</th>\n",
       "      <td>699</td>\n",
       "      <td>0</td>\n",
       "      <td>0</td>\n",
       "      <td>39</td>\n",
       "      <td>1</td>\n",
       "      <td>0.00</td>\n",
       "      <td>2</td>\n",
       "      <td>0</td>\n",
       "      <td>0</td>\n",
       "      <td>93826.63</td>\n",
       "      <td>0</td>\n",
       "    </tr>\n",
       "    <tr>\n",
       "      <th>4</th>\n",
       "      <td>850</td>\n",
       "      <td>2</td>\n",
       "      <td>0</td>\n",
       "      <td>43</td>\n",
       "      <td>2</td>\n",
       "      <td>125510.82</td>\n",
       "      <td>1</td>\n",
       "      <td>1</td>\n",
       "      <td>1</td>\n",
       "      <td>79084.10</td>\n",
       "      <td>0</td>\n",
       "    </tr>\n",
       "  </tbody>\n",
       "</table>\n",
       "</div>"
      ],
      "text/plain": [
       "   CreditScore  Geography  Gender  Age  Tenure    Balance  NumOfProducts  \\\n",
       "0          619          0       0   42       2       0.00              1   \n",
       "1          608          2       0   41       1   83807.86              1   \n",
       "2          502          0       0   42       8  159660.80              3   \n",
       "3          699          0       0   39       1       0.00              2   \n",
       "4          850          2       0   43       2  125510.82              1   \n",
       "\n",
       "   HasCrCard  IsActiveMember  EstimatedSalary  Exited  \n",
       "0          1               1        101348.88       1  \n",
       "1          0               1        112542.58       0  \n",
       "2          1               0        113931.57       1  \n",
       "3          0               0         93826.63       0  \n",
       "4          1               1         79084.10       0  "
      ]
     },
     "execution_count": 18,
     "metadata": {},
     "output_type": "execute_result"
    }
   ],
   "source": [
    "df_LE.head()"
   ]
  },
  {
   "cell_type": "code",
   "execution_count": 19,
   "metadata": {},
   "outputs": [],
   "source": [
    "X = df_LE.iloc[:, [0,1,2,3,4,5,6,7,8,9]]\n",
    "y = df_LE.iloc[:, 10].values"
   ]
  },
  {
   "cell_type": "code",
   "execution_count": 20,
   "metadata": {},
   "outputs": [
    {
     "data": {
      "text/html": [
       "<div>\n",
       "<style scoped>\n",
       "    .dataframe tbody tr th:only-of-type {\n",
       "        vertical-align: middle;\n",
       "    }\n",
       "\n",
       "    .dataframe tbody tr th {\n",
       "        vertical-align: top;\n",
       "    }\n",
       "\n",
       "    .dataframe thead th {\n",
       "        text-align: right;\n",
       "    }\n",
       "</style>\n",
       "<table border=\"1\" class=\"dataframe\">\n",
       "  <thead>\n",
       "    <tr style=\"text-align: right;\">\n",
       "      <th></th>\n",
       "      <th>CreditScore</th>\n",
       "      <th>Geography</th>\n",
       "      <th>Gender</th>\n",
       "      <th>Age</th>\n",
       "      <th>Tenure</th>\n",
       "      <th>Balance</th>\n",
       "      <th>NumOfProducts</th>\n",
       "      <th>HasCrCard</th>\n",
       "      <th>IsActiveMember</th>\n",
       "      <th>EstimatedSalary</th>\n",
       "    </tr>\n",
       "  </thead>\n",
       "  <tbody>\n",
       "    <tr>\n",
       "      <th>0</th>\n",
       "      <td>619</td>\n",
       "      <td>0</td>\n",
       "      <td>0</td>\n",
       "      <td>42</td>\n",
       "      <td>2</td>\n",
       "      <td>0.00</td>\n",
       "      <td>1</td>\n",
       "      <td>1</td>\n",
       "      <td>1</td>\n",
       "      <td>101348.88</td>\n",
       "    </tr>\n",
       "    <tr>\n",
       "      <th>1</th>\n",
       "      <td>608</td>\n",
       "      <td>2</td>\n",
       "      <td>0</td>\n",
       "      <td>41</td>\n",
       "      <td>1</td>\n",
       "      <td>83807.86</td>\n",
       "      <td>1</td>\n",
       "      <td>0</td>\n",
       "      <td>1</td>\n",
       "      <td>112542.58</td>\n",
       "    </tr>\n",
       "    <tr>\n",
       "      <th>2</th>\n",
       "      <td>502</td>\n",
       "      <td>0</td>\n",
       "      <td>0</td>\n",
       "      <td>42</td>\n",
       "      <td>8</td>\n",
       "      <td>159660.80</td>\n",
       "      <td>3</td>\n",
       "      <td>1</td>\n",
       "      <td>0</td>\n",
       "      <td>113931.57</td>\n",
       "    </tr>\n",
       "    <tr>\n",
       "      <th>3</th>\n",
       "      <td>699</td>\n",
       "      <td>0</td>\n",
       "      <td>0</td>\n",
       "      <td>39</td>\n",
       "      <td>1</td>\n",
       "      <td>0.00</td>\n",
       "      <td>2</td>\n",
       "      <td>0</td>\n",
       "      <td>0</td>\n",
       "      <td>93826.63</td>\n",
       "    </tr>\n",
       "    <tr>\n",
       "      <th>4</th>\n",
       "      <td>850</td>\n",
       "      <td>2</td>\n",
       "      <td>0</td>\n",
       "      <td>43</td>\n",
       "      <td>2</td>\n",
       "      <td>125510.82</td>\n",
       "      <td>1</td>\n",
       "      <td>1</td>\n",
       "      <td>1</td>\n",
       "      <td>79084.10</td>\n",
       "    </tr>\n",
       "  </tbody>\n",
       "</table>\n",
       "</div>"
      ],
      "text/plain": [
       "   CreditScore  Geography  Gender  Age  Tenure    Balance  NumOfProducts  \\\n",
       "0          619          0       0   42       2       0.00              1   \n",
       "1          608          2       0   41       1   83807.86              1   \n",
       "2          502          0       0   42       8  159660.80              3   \n",
       "3          699          0       0   39       1       0.00              2   \n",
       "4          850          2       0   43       2  125510.82              1   \n",
       "\n",
       "   HasCrCard  IsActiveMember  EstimatedSalary  \n",
       "0          1               1        101348.88  \n",
       "1          0               1        112542.58  \n",
       "2          1               0        113931.57  \n",
       "3          0               0         93826.63  \n",
       "4          1               1         79084.10  "
      ]
     },
     "execution_count": 20,
     "metadata": {},
     "output_type": "execute_result"
    }
   ],
   "source": [
    "X.head()"
   ]
  },
  {
   "cell_type": "code",
   "execution_count": 21,
   "metadata": {},
   "outputs": [
    {
     "data": {
      "text/plain": [
       "array([1, 0, 1, ..., 1, 1, 0], dtype=int64)"
      ]
     },
     "execution_count": 21,
     "metadata": {},
     "output_type": "execute_result"
    }
   ],
   "source": [
    "y"
   ]
  },
  {
   "cell_type": "code",
   "execution_count": 22,
   "metadata": {},
   "outputs": [
    {
     "data": {
      "text/plain": [
       "((10000, 10), (10000,))"
      ]
     },
     "execution_count": 22,
     "metadata": {},
     "output_type": "execute_result"
    }
   ],
   "source": [
    "X.shape,y.shape"
   ]
  },
  {
   "cell_type": "code",
   "execution_count": 23,
   "metadata": {},
   "outputs": [],
   "source": [
    "from imblearn.over_sampling import SMOTE"
   ]
  },
  {
   "cell_type": "code",
   "execution_count": 24,
   "metadata": {},
   "outputs": [],
   "source": [
    "smpl = SMOTE()\n",
    "X_res,y_res=smpl.fit_resample(X,y)"
   ]
  },
  {
   "cell_type": "code",
   "execution_count": 25,
   "metadata": {
    "scrolled": true
   },
   "outputs": [
    {
     "data": {
      "text/plain": [
       "((15926, 10), (15926,))"
      ]
     },
     "execution_count": 25,
     "metadata": {},
     "output_type": "execute_result"
    }
   ],
   "source": [
    "X_res.shape,y_res.shape"
   ]
  },
  {
   "cell_type": "code",
   "execution_count": 26,
   "metadata": {},
   "outputs": [],
   "source": [
    "X_train, X_test, y_train, y_test = train_test_split(X_res,y_res,test_size=0.2, random_state = 42)"
   ]
  },
  {
   "cell_type": "code",
   "execution_count": 27,
   "metadata": {},
   "outputs": [],
   "source": [
    "from sklearn.preprocessing import StandardScaler\n",
    "sc = StandardScaler()\n",
    "X_train = sc.fit_transform(X_train)\n",
    "X_test = sc.transform(X_test)"
   ]
  },
  {
   "cell_type": "markdown",
   "metadata": {},
   "source": [
    "## 1. Logistic Regression "
   ]
  },
  {
   "cell_type": "code",
   "execution_count": 33,
   "metadata": {},
   "outputs": [],
   "source": [
    "lr = LogisticRegression(random_state=0)"
   ]
  },
  {
   "cell_type": "code",
   "execution_count": 34,
   "metadata": {},
   "outputs": [
    {
     "data": {
      "text/plain": [
       "LogisticRegression(random_state=0)"
      ]
     },
     "execution_count": 34,
     "metadata": {},
     "output_type": "execute_result"
    }
   ],
   "source": [
    "lr.fit(X_train, y_train)"
   ]
  },
  {
   "cell_type": "code",
   "execution_count": 35,
   "metadata": {},
   "outputs": [],
   "source": [
    "y_pred_lr = lr.predict(X_test)"
   ]
  },
  {
   "cell_type": "markdown",
   "metadata": {},
   "source": [
    "### Confusion Matrix"
   ]
  },
  {
   "cell_type": "code",
   "execution_count": 36,
   "metadata": {},
   "outputs": [
    {
     "name": "stdout",
     "output_type": "stream",
     "text": [
      "[[1232  401]\n",
      " [ 315 1238]]\n"
     ]
    }
   ],
   "source": [
    "cm = confusion_matrix(y_test,y_pred_lr)\n",
    "print(cm)\n"
   ]
  },
  {
   "cell_type": "markdown",
   "metadata": {},
   "source": [
    "### Accuracy Score:"
   ]
  },
  {
   "cell_type": "code",
   "execution_count": 37,
   "metadata": {},
   "outputs": [
    {
     "name": "stdout",
     "output_type": "stream",
     "text": [
      "77.52667922159448\n"
     ]
    }
   ],
   "source": [
    "print(accuracy_score(y_test,y_pred_lr)*100)"
   ]
  },
  {
   "cell_type": "markdown",
   "metadata": {},
   "source": [
    "## 2. Decision Trees Classifier:"
   ]
  },
  {
   "cell_type": "code",
   "execution_count": 38,
   "metadata": {},
   "outputs": [],
   "source": [
    "dt = DecisionTreeClassifier()"
   ]
  },
  {
   "cell_type": "code",
   "execution_count": 39,
   "metadata": {},
   "outputs": [
    {
     "data": {
      "text/plain": [
       "DecisionTreeClassifier()"
      ]
     },
     "execution_count": 39,
     "metadata": {},
     "output_type": "execute_result"
    }
   ],
   "source": [
    "dt.fit(X_train, y_train)"
   ]
  },
  {
   "cell_type": "code",
   "execution_count": 40,
   "metadata": {},
   "outputs": [],
   "source": [
    "y_pred_dt = dt.predict(X_test)"
   ]
  },
  {
   "cell_type": "markdown",
   "metadata": {},
   "source": [
    "### Confusion Matrix"
   ]
  },
  {
   "cell_type": "code",
   "execution_count": 41,
   "metadata": {},
   "outputs": [
    {
     "name": "stdout",
     "output_type": "stream",
     "text": [
      "[[1284  349]\n",
      " [ 286 1267]]\n"
     ]
    }
   ],
   "source": [
    "cm = confusion_matrix(y_test,y_pred_dt)\n",
    "print(cm)"
   ]
  },
  {
   "cell_type": "markdown",
   "metadata": {},
   "source": [
    "### Accuracy Score:"
   ]
  },
  {
   "cell_type": "code",
   "execution_count": 42,
   "metadata": {},
   "outputs": [
    {
     "name": "stdout",
     "output_type": "stream",
     "text": [
      "80.06905210295041\n"
     ]
    }
   ],
   "source": [
    "print(accuracy_score(y_test,y_pred_dt)*100)"
   ]
  },
  {
   "cell_type": "markdown",
   "metadata": {},
   "source": [
    "## 3. Random Forest Classifier:"
   ]
  },
  {
   "cell_type": "code",
   "execution_count": 38,
   "metadata": {},
   "outputs": [
    {
     "data": {
      "text/plain": [
       "RandomForestClassifier()"
      ]
     },
     "execution_count": 38,
     "metadata": {},
     "output_type": "execute_result"
    }
   ],
   "source": [
    "rf = RandomForestClassifier()\n",
    "rf.fit(X_train,y_train)"
   ]
  },
  {
   "cell_type": "code",
   "execution_count": 39,
   "metadata": {},
   "outputs": [],
   "source": [
    "y_pred_rf = rf.predict(X_test)"
   ]
  },
  {
   "cell_type": "markdown",
   "metadata": {},
   "source": [
    "### Confusion Matrix"
   ]
  },
  {
   "cell_type": "code",
   "execution_count": 40,
   "metadata": {},
   "outputs": [
    {
     "name": "stdout",
     "output_type": "stream",
     "text": [
      "[[1400  233]\n",
      " [ 174 1379]]\n"
     ]
    }
   ],
   "source": [
    "cm = confusion_matrix(y_test,y_pred_rf)\n",
    "print(cm)"
   ]
  },
  {
   "cell_type": "markdown",
   "metadata": {},
   "source": [
    "### Accuracy Score:"
   ]
  },
  {
   "cell_type": "code",
   "execution_count": 41,
   "metadata": {},
   "outputs": [
    {
     "name": "stdout",
     "output_type": "stream",
     "text": [
      "87.22536095417452\n"
     ]
    }
   ],
   "source": [
    "print(accuracy_score(y_test,y_pred_rf)*100)"
   ]
  },
  {
   "cell_type": "markdown",
   "metadata": {},
   "source": [
    "## 4. KNN Classifier "
   ]
  },
  {
   "cell_type": "code",
   "execution_count": 42,
   "metadata": {},
   "outputs": [],
   "source": [
    "knn = KNeighborsClassifier(n_neighbors=3)"
   ]
  },
  {
   "cell_type": "code",
   "execution_count": 43,
   "metadata": {},
   "outputs": [
    {
     "data": {
      "text/plain": [
       "KNeighborsClassifier(n_neighbors=3)"
      ]
     },
     "execution_count": 43,
     "metadata": {},
     "output_type": "execute_result"
    }
   ],
   "source": [
    "knn.fit(X_train,y_train)"
   ]
  },
  {
   "cell_type": "code",
   "execution_count": 44,
   "metadata": {},
   "outputs": [],
   "source": [
    "y_pred_knn = knn.predict(X_test)"
   ]
  },
  {
   "cell_type": "markdown",
   "metadata": {},
   "source": [
    "### Confusion Matrix"
   ]
  },
  {
   "cell_type": "code",
   "execution_count": 45,
   "metadata": {},
   "outputs": [
    {
     "name": "stdout",
     "output_type": "stream",
     "text": [
      "[[1322  311]\n",
      " [ 214 1339]]\n"
     ]
    }
   ],
   "source": [
    "cm = confusion_matrix(y_test,y_pred_knn)\n",
    "print(cm)"
   ]
  },
  {
   "cell_type": "markdown",
   "metadata": {},
   "source": [
    "### Accuracy Score:"
   ]
  },
  {
   "cell_type": "code",
   "execution_count": 46,
   "metadata": {},
   "outputs": [
    {
     "name": "stdout",
     "output_type": "stream",
     "text": [
      "83.52165725047081\n"
     ]
    }
   ],
   "source": [
    "print(accuracy_score(y_test,y_pred_knn)*100)"
   ]
  },
  {
   "cell_type": "markdown",
   "metadata": {},
   "source": [
    "## 5. AdaBoost"
   ]
  },
  {
   "cell_type": "code",
   "execution_count": 50,
   "metadata": {},
   "outputs": [],
   "source": [
    "ab = AdaBoostClassifier()"
   ]
  },
  {
   "cell_type": "code",
   "execution_count": 51,
   "metadata": {},
   "outputs": [
    {
     "data": {
      "text/plain": [
       "AdaBoostClassifier(algorithm='SAMME.R', base_estimator=None, learning_rate=1.0,\n",
       "                   n_estimators=50, random_state=None)"
      ]
     },
     "execution_count": 51,
     "metadata": {},
     "output_type": "execute_result"
    }
   ],
   "source": [
    "ab.fit(X_train,y_train)"
   ]
  },
  {
   "cell_type": "code",
   "execution_count": 52,
   "metadata": {},
   "outputs": [],
   "source": [
    "y_pred_ab = ab.predict(X_test)"
   ]
  },
  {
   "cell_type": "markdown",
   "metadata": {},
   "source": [
    "### Confusion Matrix"
   ]
  },
  {
   "cell_type": "code",
   "execution_count": 53,
   "metadata": {},
   "outputs": [
    {
     "name": "stdout",
     "output_type": "stream",
     "text": [
      "[[1350  283]\n",
      " [ 241 1312]]\n"
     ]
    }
   ],
   "source": [
    "cm = confusion_matrix(y_test,y_pred_ab)\n",
    "print(cm)"
   ]
  },
  {
   "cell_type": "markdown",
   "metadata": {},
   "source": [
    "### Accuracy Score:"
   ]
  },
  {
   "cell_type": "code",
   "execution_count": 54,
   "metadata": {},
   "outputs": [
    {
     "name": "stdout",
     "output_type": "stream",
     "text": [
      "83.55304456999372\n"
     ]
    }
   ],
   "source": [
    "print(accuracy_score(y_test,y_pred_ab)*100)"
   ]
  },
  {
   "cell_type": "markdown",
   "metadata": {},
   "source": [
    "## 6. Gradient Boosting"
   ]
  },
  {
   "cell_type": "code",
   "execution_count": 55,
   "metadata": {},
   "outputs": [],
   "source": [
    "gb = GradientBoostingClassifier()"
   ]
  },
  {
   "cell_type": "code",
   "execution_count": 56,
   "metadata": {},
   "outputs": [
    {
     "data": {
      "text/plain": [
       "GradientBoostingClassifier(ccp_alpha=0.0, criterion='friedman_mse', init=None,\n",
       "                           learning_rate=0.1, loss='deviance', max_depth=3,\n",
       "                           max_features=None, max_leaf_nodes=None,\n",
       "                           min_impurity_decrease=0.0, min_impurity_split=None,\n",
       "                           min_samples_leaf=1, min_samples_split=2,\n",
       "                           min_weight_fraction_leaf=0.0, n_estimators=100,\n",
       "                           n_iter_no_change=None, presort='deprecated',\n",
       "                           random_state=None, subsample=1.0, tol=0.0001,\n",
       "                           validation_fraction=0.1, verbose=0,\n",
       "                           warm_start=False)"
      ]
     },
     "execution_count": 56,
     "metadata": {},
     "output_type": "execute_result"
    }
   ],
   "source": [
    "gb.fit(X_train,y_train)"
   ]
  },
  {
   "cell_type": "code",
   "execution_count": 57,
   "metadata": {},
   "outputs": [],
   "source": [
    "y_pred_gb = gb.predict(X_test)"
   ]
  },
  {
   "cell_type": "markdown",
   "metadata": {},
   "source": [
    "### Confusion Matrix"
   ]
  },
  {
   "cell_type": "code",
   "execution_count": 58,
   "metadata": {},
   "outputs": [
    {
     "name": "stdout",
     "output_type": "stream",
     "text": [
      "[[1377  256]\n",
      " [ 222 1331]]\n"
     ]
    }
   ],
   "source": [
    "cm = confusion_matrix(y_test,y_pred_gb)\n",
    "print(cm)"
   ]
  },
  {
   "cell_type": "markdown",
   "metadata": {},
   "source": [
    "### Accuracy Score:"
   ]
  },
  {
   "cell_type": "code",
   "execution_count": 59,
   "metadata": {},
   "outputs": [
    {
     "name": "stdout",
     "output_type": "stream",
     "text": [
      "84.99686126804771\n"
     ]
    }
   ],
   "source": [
    "print(accuracy_score(y_test,y_pred_gb)*100)"
   ]
  },
  {
   "cell_type": "markdown",
   "metadata": {},
   "source": [
    "## 7. eXtreme Gradient Boosting"
   ]
  },
  {
   "cell_type": "code",
   "execution_count": 69,
   "metadata": {},
   "outputs": [],
   "source": [
    "xgb = XGBClassifier(eval_metric = 'logloss')"
   ]
  },
  {
   "cell_type": "code",
   "execution_count": 70,
   "metadata": {},
   "outputs": [
    {
     "data": {
      "text/plain": [
       "XGBClassifier(base_score=0.5, booster='gbtree', colsample_bylevel=1,\n",
       "              colsample_bynode=1, colsample_bytree=1, eval_metric='logloss',\n",
       "              gamma=0, gpu_id=-1, importance_type='gain',\n",
       "              interaction_constraints='', learning_rate=0.300000012,\n",
       "              max_delta_step=0, max_depth=6, min_child_weight=1, missing=nan,\n",
       "              monotone_constraints='()', n_estimators=100, n_jobs=8,\n",
       "              num_parallel_tree=1, objective='binary:logistic', random_state=0,\n",
       "              reg_alpha=0, reg_lambda=1, scale_pos_weight=1, subsample=1,\n",
       "              tree_method='exact', use_label_encoder=True,\n",
       "              validate_parameters=1, verbosity=None)"
      ]
     },
     "execution_count": 70,
     "metadata": {},
     "output_type": "execute_result"
    }
   ],
   "source": [
    "xgb.fit(X_train,y_train)"
   ]
  },
  {
   "cell_type": "code",
   "execution_count": 71,
   "metadata": {},
   "outputs": [],
   "source": [
    "y_pred_xgb = xgb.predict(X_test)"
   ]
  },
  {
   "cell_type": "markdown",
   "metadata": {},
   "source": [
    "### Confusion Matrix"
   ]
  },
  {
   "cell_type": "code",
   "execution_count": 72,
   "metadata": {},
   "outputs": [
    {
     "name": "stdout",
     "output_type": "stream",
     "text": [
      "[[1386  247]\n",
      " [ 176 1377]]\n"
     ]
    }
   ],
   "source": [
    "cm = confusion_matrix(y_test,y_pred_xgb)\n",
    "print(cm)"
   ]
  },
  {
   "cell_type": "markdown",
   "metadata": {},
   "source": [
    "### Accuracy Score:"
   ]
  },
  {
   "cell_type": "code",
   "execution_count": 73,
   "metadata": {},
   "outputs": [
    {
     "name": "stdout",
     "output_type": "stream",
     "text": [
      "86.7231638418079\n"
     ]
    }
   ],
   "source": [
    "print(accuracy_score(y_test,y_pred_xgb)*100)"
   ]
  },
  {
   "cell_type": "code",
   "execution_count": 47,
   "metadata": {},
   "outputs": [],
   "source": [
    "scoring = 'accuracy'"
   ]
  },
  {
   "cell_type": "code",
   "execution_count": 68,
   "metadata": {},
   "outputs": [
    {
     "name": "stdout",
     "output_type": "stream",
     "text": [
      "KNN: 81.593407 (0.010169)\n",
      "LR: 77.150706 (0.012383)\n",
      "CART: 78.767661 (0.009961)\n",
      "RF: 85.470958 (0.011506)\n",
      "GB: 83.885400 (0.011510)\n",
      "ADB: 82.362637 (0.011940)\n",
      "XGB: 85.525903 (0.011332)\n"
     ]
    }
   ],
   "source": [
    "models = []\n",
    "models.append(('KNN', KNeighborsClassifier()))\n",
    "models.append(('LR', LogisticRegression(solver='liblinear', multi_class='ovr')))\n",
    "models.append(('CART', DecisionTreeClassifier()))\n",
    "models.append(('RF', RandomForestClassifier()))\n",
    "models.append(('GB', GradientBoostingClassifier()))\n",
    "models.append(('ADB', AdaBoostClassifier()))\n",
    "models.append(('XGB', XGBClassifier(eval_metric = 'logloss')))\n",
    "# evaluate each model in turn\n",
    "results = []\n",
    "names = []\n",
    "for name, model in models:\n",
    "    kfold = model_selection.KFold(n_splits=10)\n",
    "    cv_results = model_selection.cross_val_score(model, X_train, y_train, cv=kfold, scoring=scoring)\n",
    "    results.append(cv_results)\n",
    "    names.append(name)\n",
    "    msg = \"%s: %f (%f)\" % (name, cv_results.mean()*100, cv_results.std())\n",
    "    print(msg)"
   ]
  },
  {
   "cell_type": "code",
   "execution_count": 49,
   "metadata": {},
   "outputs": [
    {
     "data": {
      "text/html": [
       "<style  type=\"text/css\" >\n",
       "</style><table id=\"T_746fbb04_bbce_11eb_b5ae_54bf643b4dfe\" ><thead>    <tr>        <th class=\"blank level0\" ></th>        <th class=\"col_heading level0 col0\" >Description</th>        <th class=\"col_heading level0 col1\" >Value</th>    </tr></thead><tbody>\n",
       "                <tr>\n",
       "                        <th id=\"T_746fbb04_bbce_11eb_b5ae_54bf643b4dfelevel0_row0\" class=\"row_heading level0 row0\" >0</th>\n",
       "                        <td id=\"T_746fbb04_bbce_11eb_b5ae_54bf643b4dferow0_col0\" class=\"data row0 col0\" >session_id</td>\n",
       "                        <td id=\"T_746fbb04_bbce_11eb_b5ae_54bf643b4dferow0_col1\" class=\"data row0 col1\" >8493</td>\n",
       "            </tr>\n",
       "            <tr>\n",
       "                        <th id=\"T_746fbb04_bbce_11eb_b5ae_54bf643b4dfelevel0_row1\" class=\"row_heading level0 row1\" >1</th>\n",
       "                        <td id=\"T_746fbb04_bbce_11eb_b5ae_54bf643b4dferow1_col0\" class=\"data row1 col0\" >Target</td>\n",
       "                        <td id=\"T_746fbb04_bbce_11eb_b5ae_54bf643b4dferow1_col1\" class=\"data row1 col1\" >Exited</td>\n",
       "            </tr>\n",
       "            <tr>\n",
       "                        <th id=\"T_746fbb04_bbce_11eb_b5ae_54bf643b4dfelevel0_row2\" class=\"row_heading level0 row2\" >2</th>\n",
       "                        <td id=\"T_746fbb04_bbce_11eb_b5ae_54bf643b4dferow2_col0\" class=\"data row2 col0\" >Target Type</td>\n",
       "                        <td id=\"T_746fbb04_bbce_11eb_b5ae_54bf643b4dferow2_col1\" class=\"data row2 col1\" >Binary</td>\n",
       "            </tr>\n",
       "            <tr>\n",
       "                        <th id=\"T_746fbb04_bbce_11eb_b5ae_54bf643b4dfelevel0_row3\" class=\"row_heading level0 row3\" >3</th>\n",
       "                        <td id=\"T_746fbb04_bbce_11eb_b5ae_54bf643b4dferow3_col0\" class=\"data row3 col0\" >Label Encoded</td>\n",
       "                        <td id=\"T_746fbb04_bbce_11eb_b5ae_54bf643b4dferow3_col1\" class=\"data row3 col1\" >0: 0, 1: 1</td>\n",
       "            </tr>\n",
       "            <tr>\n",
       "                        <th id=\"T_746fbb04_bbce_11eb_b5ae_54bf643b4dfelevel0_row4\" class=\"row_heading level0 row4\" >4</th>\n",
       "                        <td id=\"T_746fbb04_bbce_11eb_b5ae_54bf643b4dferow4_col0\" class=\"data row4 col0\" >Original Data</td>\n",
       "                        <td id=\"T_746fbb04_bbce_11eb_b5ae_54bf643b4dferow4_col1\" class=\"data row4 col1\" >(10000, 11)</td>\n",
       "            </tr>\n",
       "            <tr>\n",
       "                        <th id=\"T_746fbb04_bbce_11eb_b5ae_54bf643b4dfelevel0_row5\" class=\"row_heading level0 row5\" >5</th>\n",
       "                        <td id=\"T_746fbb04_bbce_11eb_b5ae_54bf643b4dferow5_col0\" class=\"data row5 col0\" >Missing Values</td>\n",
       "                        <td id=\"T_746fbb04_bbce_11eb_b5ae_54bf643b4dferow5_col1\" class=\"data row5 col1\" >False</td>\n",
       "            </tr>\n",
       "            <tr>\n",
       "                        <th id=\"T_746fbb04_bbce_11eb_b5ae_54bf643b4dfelevel0_row6\" class=\"row_heading level0 row6\" >6</th>\n",
       "                        <td id=\"T_746fbb04_bbce_11eb_b5ae_54bf643b4dferow6_col0\" class=\"data row6 col0\" >Numeric Features</td>\n",
       "                        <td id=\"T_746fbb04_bbce_11eb_b5ae_54bf643b4dferow6_col1\" class=\"data row6 col1\" >6</td>\n",
       "            </tr>\n",
       "            <tr>\n",
       "                        <th id=\"T_746fbb04_bbce_11eb_b5ae_54bf643b4dfelevel0_row7\" class=\"row_heading level0 row7\" >7</th>\n",
       "                        <td id=\"T_746fbb04_bbce_11eb_b5ae_54bf643b4dferow7_col0\" class=\"data row7 col0\" >Categorical Features</td>\n",
       "                        <td id=\"T_746fbb04_bbce_11eb_b5ae_54bf643b4dferow7_col1\" class=\"data row7 col1\" >4</td>\n",
       "            </tr>\n",
       "            <tr>\n",
       "                        <th id=\"T_746fbb04_bbce_11eb_b5ae_54bf643b4dfelevel0_row8\" class=\"row_heading level0 row8\" >8</th>\n",
       "                        <td id=\"T_746fbb04_bbce_11eb_b5ae_54bf643b4dferow8_col0\" class=\"data row8 col0\" >Ordinal Features</td>\n",
       "                        <td id=\"T_746fbb04_bbce_11eb_b5ae_54bf643b4dferow8_col1\" class=\"data row8 col1\" >False</td>\n",
       "            </tr>\n",
       "            <tr>\n",
       "                        <th id=\"T_746fbb04_bbce_11eb_b5ae_54bf643b4dfelevel0_row9\" class=\"row_heading level0 row9\" >9</th>\n",
       "                        <td id=\"T_746fbb04_bbce_11eb_b5ae_54bf643b4dferow9_col0\" class=\"data row9 col0\" >High Cardinality Features</td>\n",
       "                        <td id=\"T_746fbb04_bbce_11eb_b5ae_54bf643b4dferow9_col1\" class=\"data row9 col1\" >False</td>\n",
       "            </tr>\n",
       "            <tr>\n",
       "                        <th id=\"T_746fbb04_bbce_11eb_b5ae_54bf643b4dfelevel0_row10\" class=\"row_heading level0 row10\" >10</th>\n",
       "                        <td id=\"T_746fbb04_bbce_11eb_b5ae_54bf643b4dferow10_col0\" class=\"data row10 col0\" >High Cardinality Method</td>\n",
       "                        <td id=\"T_746fbb04_bbce_11eb_b5ae_54bf643b4dferow10_col1\" class=\"data row10 col1\" >None</td>\n",
       "            </tr>\n",
       "            <tr>\n",
       "                        <th id=\"T_746fbb04_bbce_11eb_b5ae_54bf643b4dfelevel0_row11\" class=\"row_heading level0 row11\" >11</th>\n",
       "                        <td id=\"T_746fbb04_bbce_11eb_b5ae_54bf643b4dferow11_col0\" class=\"data row11 col0\" >Transformed Train Set</td>\n",
       "                        <td id=\"T_746fbb04_bbce_11eb_b5ae_54bf643b4dferow11_col1\" class=\"data row11 col1\" >(6999, 23)</td>\n",
       "            </tr>\n",
       "            <tr>\n",
       "                        <th id=\"T_746fbb04_bbce_11eb_b5ae_54bf643b4dfelevel0_row12\" class=\"row_heading level0 row12\" >12</th>\n",
       "                        <td id=\"T_746fbb04_bbce_11eb_b5ae_54bf643b4dferow12_col0\" class=\"data row12 col0\" >Transformed Test Set</td>\n",
       "                        <td id=\"T_746fbb04_bbce_11eb_b5ae_54bf643b4dferow12_col1\" class=\"data row12 col1\" >(3001, 23)</td>\n",
       "            </tr>\n",
       "            <tr>\n",
       "                        <th id=\"T_746fbb04_bbce_11eb_b5ae_54bf643b4dfelevel0_row13\" class=\"row_heading level0 row13\" >13</th>\n",
       "                        <td id=\"T_746fbb04_bbce_11eb_b5ae_54bf643b4dferow13_col0\" class=\"data row13 col0\" >Shuffle Train-Test</td>\n",
       "                        <td id=\"T_746fbb04_bbce_11eb_b5ae_54bf643b4dferow13_col1\" class=\"data row13 col1\" >True</td>\n",
       "            </tr>\n",
       "            <tr>\n",
       "                        <th id=\"T_746fbb04_bbce_11eb_b5ae_54bf643b4dfelevel0_row14\" class=\"row_heading level0 row14\" >14</th>\n",
       "                        <td id=\"T_746fbb04_bbce_11eb_b5ae_54bf643b4dferow14_col0\" class=\"data row14 col0\" >Stratify Train-Test</td>\n",
       "                        <td id=\"T_746fbb04_bbce_11eb_b5ae_54bf643b4dferow14_col1\" class=\"data row14 col1\" >False</td>\n",
       "            </tr>\n",
       "            <tr>\n",
       "                        <th id=\"T_746fbb04_bbce_11eb_b5ae_54bf643b4dfelevel0_row15\" class=\"row_heading level0 row15\" >15</th>\n",
       "                        <td id=\"T_746fbb04_bbce_11eb_b5ae_54bf643b4dferow15_col0\" class=\"data row15 col0\" >Fold Generator</td>\n",
       "                        <td id=\"T_746fbb04_bbce_11eb_b5ae_54bf643b4dferow15_col1\" class=\"data row15 col1\" >StratifiedKFold</td>\n",
       "            </tr>\n",
       "            <tr>\n",
       "                        <th id=\"T_746fbb04_bbce_11eb_b5ae_54bf643b4dfelevel0_row16\" class=\"row_heading level0 row16\" >16</th>\n",
       "                        <td id=\"T_746fbb04_bbce_11eb_b5ae_54bf643b4dferow16_col0\" class=\"data row16 col0\" >Fold Number</td>\n",
       "                        <td id=\"T_746fbb04_bbce_11eb_b5ae_54bf643b4dferow16_col1\" class=\"data row16 col1\" >10</td>\n",
       "            </tr>\n",
       "            <tr>\n",
       "                        <th id=\"T_746fbb04_bbce_11eb_b5ae_54bf643b4dfelevel0_row17\" class=\"row_heading level0 row17\" >17</th>\n",
       "                        <td id=\"T_746fbb04_bbce_11eb_b5ae_54bf643b4dferow17_col0\" class=\"data row17 col0\" >CPU Jobs</td>\n",
       "                        <td id=\"T_746fbb04_bbce_11eb_b5ae_54bf643b4dferow17_col1\" class=\"data row17 col1\" >-1</td>\n",
       "            </tr>\n",
       "            <tr>\n",
       "                        <th id=\"T_746fbb04_bbce_11eb_b5ae_54bf643b4dfelevel0_row18\" class=\"row_heading level0 row18\" >18</th>\n",
       "                        <td id=\"T_746fbb04_bbce_11eb_b5ae_54bf643b4dferow18_col0\" class=\"data row18 col0\" >Use GPU</td>\n",
       "                        <td id=\"T_746fbb04_bbce_11eb_b5ae_54bf643b4dferow18_col1\" class=\"data row18 col1\" >False</td>\n",
       "            </tr>\n",
       "            <tr>\n",
       "                        <th id=\"T_746fbb04_bbce_11eb_b5ae_54bf643b4dfelevel0_row19\" class=\"row_heading level0 row19\" >19</th>\n",
       "                        <td id=\"T_746fbb04_bbce_11eb_b5ae_54bf643b4dferow19_col0\" class=\"data row19 col0\" >Log Experiment</td>\n",
       "                        <td id=\"T_746fbb04_bbce_11eb_b5ae_54bf643b4dferow19_col1\" class=\"data row19 col1\" >False</td>\n",
       "            </tr>\n",
       "            <tr>\n",
       "                        <th id=\"T_746fbb04_bbce_11eb_b5ae_54bf643b4dfelevel0_row20\" class=\"row_heading level0 row20\" >20</th>\n",
       "                        <td id=\"T_746fbb04_bbce_11eb_b5ae_54bf643b4dferow20_col0\" class=\"data row20 col0\" >Experiment Name</td>\n",
       "                        <td id=\"T_746fbb04_bbce_11eb_b5ae_54bf643b4dferow20_col1\" class=\"data row20 col1\" >clf-default-name</td>\n",
       "            </tr>\n",
       "            <tr>\n",
       "                        <th id=\"T_746fbb04_bbce_11eb_b5ae_54bf643b4dfelevel0_row21\" class=\"row_heading level0 row21\" >21</th>\n",
       "                        <td id=\"T_746fbb04_bbce_11eb_b5ae_54bf643b4dferow21_col0\" class=\"data row21 col0\" >USI</td>\n",
       "                        <td id=\"T_746fbb04_bbce_11eb_b5ae_54bf643b4dferow21_col1\" class=\"data row21 col1\" >94d2</td>\n",
       "            </tr>\n",
       "            <tr>\n",
       "                        <th id=\"T_746fbb04_bbce_11eb_b5ae_54bf643b4dfelevel0_row22\" class=\"row_heading level0 row22\" >22</th>\n",
       "                        <td id=\"T_746fbb04_bbce_11eb_b5ae_54bf643b4dferow22_col0\" class=\"data row22 col0\" >Imputation Type</td>\n",
       "                        <td id=\"T_746fbb04_bbce_11eb_b5ae_54bf643b4dferow22_col1\" class=\"data row22 col1\" >simple</td>\n",
       "            </tr>\n",
       "            <tr>\n",
       "                        <th id=\"T_746fbb04_bbce_11eb_b5ae_54bf643b4dfelevel0_row23\" class=\"row_heading level0 row23\" >23</th>\n",
       "                        <td id=\"T_746fbb04_bbce_11eb_b5ae_54bf643b4dferow23_col0\" class=\"data row23 col0\" >Iterative Imputation Iteration</td>\n",
       "                        <td id=\"T_746fbb04_bbce_11eb_b5ae_54bf643b4dferow23_col1\" class=\"data row23 col1\" >None</td>\n",
       "            </tr>\n",
       "            <tr>\n",
       "                        <th id=\"T_746fbb04_bbce_11eb_b5ae_54bf643b4dfelevel0_row24\" class=\"row_heading level0 row24\" >24</th>\n",
       "                        <td id=\"T_746fbb04_bbce_11eb_b5ae_54bf643b4dferow24_col0\" class=\"data row24 col0\" >Numeric Imputer</td>\n",
       "                        <td id=\"T_746fbb04_bbce_11eb_b5ae_54bf643b4dferow24_col1\" class=\"data row24 col1\" >mean</td>\n",
       "            </tr>\n",
       "            <tr>\n",
       "                        <th id=\"T_746fbb04_bbce_11eb_b5ae_54bf643b4dfelevel0_row25\" class=\"row_heading level0 row25\" >25</th>\n",
       "                        <td id=\"T_746fbb04_bbce_11eb_b5ae_54bf643b4dferow25_col0\" class=\"data row25 col0\" >Iterative Imputation Numeric Model</td>\n",
       "                        <td id=\"T_746fbb04_bbce_11eb_b5ae_54bf643b4dferow25_col1\" class=\"data row25 col1\" >None</td>\n",
       "            </tr>\n",
       "            <tr>\n",
       "                        <th id=\"T_746fbb04_bbce_11eb_b5ae_54bf643b4dfelevel0_row26\" class=\"row_heading level0 row26\" >26</th>\n",
       "                        <td id=\"T_746fbb04_bbce_11eb_b5ae_54bf643b4dferow26_col0\" class=\"data row26 col0\" >Categorical Imputer</td>\n",
       "                        <td id=\"T_746fbb04_bbce_11eb_b5ae_54bf643b4dferow26_col1\" class=\"data row26 col1\" >constant</td>\n",
       "            </tr>\n",
       "            <tr>\n",
       "                        <th id=\"T_746fbb04_bbce_11eb_b5ae_54bf643b4dfelevel0_row27\" class=\"row_heading level0 row27\" >27</th>\n",
       "                        <td id=\"T_746fbb04_bbce_11eb_b5ae_54bf643b4dferow27_col0\" class=\"data row27 col0\" >Iterative Imputation Categorical Model</td>\n",
       "                        <td id=\"T_746fbb04_bbce_11eb_b5ae_54bf643b4dferow27_col1\" class=\"data row27 col1\" >None</td>\n",
       "            </tr>\n",
       "            <tr>\n",
       "                        <th id=\"T_746fbb04_bbce_11eb_b5ae_54bf643b4dfelevel0_row28\" class=\"row_heading level0 row28\" >28</th>\n",
       "                        <td id=\"T_746fbb04_bbce_11eb_b5ae_54bf643b4dferow28_col0\" class=\"data row28 col0\" >Unknown Categoricals Handling</td>\n",
       "                        <td id=\"T_746fbb04_bbce_11eb_b5ae_54bf643b4dferow28_col1\" class=\"data row28 col1\" >least_frequent</td>\n",
       "            </tr>\n",
       "            <tr>\n",
       "                        <th id=\"T_746fbb04_bbce_11eb_b5ae_54bf643b4dfelevel0_row29\" class=\"row_heading level0 row29\" >29</th>\n",
       "                        <td id=\"T_746fbb04_bbce_11eb_b5ae_54bf643b4dferow29_col0\" class=\"data row29 col0\" >Normalize</td>\n",
       "                        <td id=\"T_746fbb04_bbce_11eb_b5ae_54bf643b4dferow29_col1\" class=\"data row29 col1\" >False</td>\n",
       "            </tr>\n",
       "            <tr>\n",
       "                        <th id=\"T_746fbb04_bbce_11eb_b5ae_54bf643b4dfelevel0_row30\" class=\"row_heading level0 row30\" >30</th>\n",
       "                        <td id=\"T_746fbb04_bbce_11eb_b5ae_54bf643b4dferow30_col0\" class=\"data row30 col0\" >Normalize Method</td>\n",
       "                        <td id=\"T_746fbb04_bbce_11eb_b5ae_54bf643b4dferow30_col1\" class=\"data row30 col1\" >None</td>\n",
       "            </tr>\n",
       "            <tr>\n",
       "                        <th id=\"T_746fbb04_bbce_11eb_b5ae_54bf643b4dfelevel0_row31\" class=\"row_heading level0 row31\" >31</th>\n",
       "                        <td id=\"T_746fbb04_bbce_11eb_b5ae_54bf643b4dferow31_col0\" class=\"data row31 col0\" >Transformation</td>\n",
       "                        <td id=\"T_746fbb04_bbce_11eb_b5ae_54bf643b4dferow31_col1\" class=\"data row31 col1\" >False</td>\n",
       "            </tr>\n",
       "            <tr>\n",
       "                        <th id=\"T_746fbb04_bbce_11eb_b5ae_54bf643b4dfelevel0_row32\" class=\"row_heading level0 row32\" >32</th>\n",
       "                        <td id=\"T_746fbb04_bbce_11eb_b5ae_54bf643b4dferow32_col0\" class=\"data row32 col0\" >Transformation Method</td>\n",
       "                        <td id=\"T_746fbb04_bbce_11eb_b5ae_54bf643b4dferow32_col1\" class=\"data row32 col1\" >None</td>\n",
       "            </tr>\n",
       "            <tr>\n",
       "                        <th id=\"T_746fbb04_bbce_11eb_b5ae_54bf643b4dfelevel0_row33\" class=\"row_heading level0 row33\" >33</th>\n",
       "                        <td id=\"T_746fbb04_bbce_11eb_b5ae_54bf643b4dferow33_col0\" class=\"data row33 col0\" >PCA</td>\n",
       "                        <td id=\"T_746fbb04_bbce_11eb_b5ae_54bf643b4dferow33_col1\" class=\"data row33 col1\" >False</td>\n",
       "            </tr>\n",
       "            <tr>\n",
       "                        <th id=\"T_746fbb04_bbce_11eb_b5ae_54bf643b4dfelevel0_row34\" class=\"row_heading level0 row34\" >34</th>\n",
       "                        <td id=\"T_746fbb04_bbce_11eb_b5ae_54bf643b4dferow34_col0\" class=\"data row34 col0\" >PCA Method</td>\n",
       "                        <td id=\"T_746fbb04_bbce_11eb_b5ae_54bf643b4dferow34_col1\" class=\"data row34 col1\" >None</td>\n",
       "            </tr>\n",
       "            <tr>\n",
       "                        <th id=\"T_746fbb04_bbce_11eb_b5ae_54bf643b4dfelevel0_row35\" class=\"row_heading level0 row35\" >35</th>\n",
       "                        <td id=\"T_746fbb04_bbce_11eb_b5ae_54bf643b4dferow35_col0\" class=\"data row35 col0\" >PCA Components</td>\n",
       "                        <td id=\"T_746fbb04_bbce_11eb_b5ae_54bf643b4dferow35_col1\" class=\"data row35 col1\" >None</td>\n",
       "            </tr>\n",
       "            <tr>\n",
       "                        <th id=\"T_746fbb04_bbce_11eb_b5ae_54bf643b4dfelevel0_row36\" class=\"row_heading level0 row36\" >36</th>\n",
       "                        <td id=\"T_746fbb04_bbce_11eb_b5ae_54bf643b4dferow36_col0\" class=\"data row36 col0\" >Ignore Low Variance</td>\n",
       "                        <td id=\"T_746fbb04_bbce_11eb_b5ae_54bf643b4dferow36_col1\" class=\"data row36 col1\" >False</td>\n",
       "            </tr>\n",
       "            <tr>\n",
       "                        <th id=\"T_746fbb04_bbce_11eb_b5ae_54bf643b4dfelevel0_row37\" class=\"row_heading level0 row37\" >37</th>\n",
       "                        <td id=\"T_746fbb04_bbce_11eb_b5ae_54bf643b4dferow37_col0\" class=\"data row37 col0\" >Combine Rare Levels</td>\n",
       "                        <td id=\"T_746fbb04_bbce_11eb_b5ae_54bf643b4dferow37_col1\" class=\"data row37 col1\" >False</td>\n",
       "            </tr>\n",
       "            <tr>\n",
       "                        <th id=\"T_746fbb04_bbce_11eb_b5ae_54bf643b4dfelevel0_row38\" class=\"row_heading level0 row38\" >38</th>\n",
       "                        <td id=\"T_746fbb04_bbce_11eb_b5ae_54bf643b4dferow38_col0\" class=\"data row38 col0\" >Rare Level Threshold</td>\n",
       "                        <td id=\"T_746fbb04_bbce_11eb_b5ae_54bf643b4dferow38_col1\" class=\"data row38 col1\" >None</td>\n",
       "            </tr>\n",
       "            <tr>\n",
       "                        <th id=\"T_746fbb04_bbce_11eb_b5ae_54bf643b4dfelevel0_row39\" class=\"row_heading level0 row39\" >39</th>\n",
       "                        <td id=\"T_746fbb04_bbce_11eb_b5ae_54bf643b4dferow39_col0\" class=\"data row39 col0\" >Numeric Binning</td>\n",
       "                        <td id=\"T_746fbb04_bbce_11eb_b5ae_54bf643b4dferow39_col1\" class=\"data row39 col1\" >False</td>\n",
       "            </tr>\n",
       "            <tr>\n",
       "                        <th id=\"T_746fbb04_bbce_11eb_b5ae_54bf643b4dfelevel0_row40\" class=\"row_heading level0 row40\" >40</th>\n",
       "                        <td id=\"T_746fbb04_bbce_11eb_b5ae_54bf643b4dferow40_col0\" class=\"data row40 col0\" >Remove Outliers</td>\n",
       "                        <td id=\"T_746fbb04_bbce_11eb_b5ae_54bf643b4dferow40_col1\" class=\"data row40 col1\" >False</td>\n",
       "            </tr>\n",
       "            <tr>\n",
       "                        <th id=\"T_746fbb04_bbce_11eb_b5ae_54bf643b4dfelevel0_row41\" class=\"row_heading level0 row41\" >41</th>\n",
       "                        <td id=\"T_746fbb04_bbce_11eb_b5ae_54bf643b4dferow41_col0\" class=\"data row41 col0\" >Outliers Threshold</td>\n",
       "                        <td id=\"T_746fbb04_bbce_11eb_b5ae_54bf643b4dferow41_col1\" class=\"data row41 col1\" >None</td>\n",
       "            </tr>\n",
       "            <tr>\n",
       "                        <th id=\"T_746fbb04_bbce_11eb_b5ae_54bf643b4dfelevel0_row42\" class=\"row_heading level0 row42\" >42</th>\n",
       "                        <td id=\"T_746fbb04_bbce_11eb_b5ae_54bf643b4dferow42_col0\" class=\"data row42 col0\" >Remove Multicollinearity</td>\n",
       "                        <td id=\"T_746fbb04_bbce_11eb_b5ae_54bf643b4dferow42_col1\" class=\"data row42 col1\" >False</td>\n",
       "            </tr>\n",
       "            <tr>\n",
       "                        <th id=\"T_746fbb04_bbce_11eb_b5ae_54bf643b4dfelevel0_row43\" class=\"row_heading level0 row43\" >43</th>\n",
       "                        <td id=\"T_746fbb04_bbce_11eb_b5ae_54bf643b4dferow43_col0\" class=\"data row43 col0\" >Multicollinearity Threshold</td>\n",
       "                        <td id=\"T_746fbb04_bbce_11eb_b5ae_54bf643b4dferow43_col1\" class=\"data row43 col1\" >None</td>\n",
       "            </tr>\n",
       "            <tr>\n",
       "                        <th id=\"T_746fbb04_bbce_11eb_b5ae_54bf643b4dfelevel0_row44\" class=\"row_heading level0 row44\" >44</th>\n",
       "                        <td id=\"T_746fbb04_bbce_11eb_b5ae_54bf643b4dferow44_col0\" class=\"data row44 col0\" >Clustering</td>\n",
       "                        <td id=\"T_746fbb04_bbce_11eb_b5ae_54bf643b4dferow44_col1\" class=\"data row44 col1\" >False</td>\n",
       "            </tr>\n",
       "            <tr>\n",
       "                        <th id=\"T_746fbb04_bbce_11eb_b5ae_54bf643b4dfelevel0_row45\" class=\"row_heading level0 row45\" >45</th>\n",
       "                        <td id=\"T_746fbb04_bbce_11eb_b5ae_54bf643b4dferow45_col0\" class=\"data row45 col0\" >Clustering Iteration</td>\n",
       "                        <td id=\"T_746fbb04_bbce_11eb_b5ae_54bf643b4dferow45_col1\" class=\"data row45 col1\" >None</td>\n",
       "            </tr>\n",
       "            <tr>\n",
       "                        <th id=\"T_746fbb04_bbce_11eb_b5ae_54bf643b4dfelevel0_row46\" class=\"row_heading level0 row46\" >46</th>\n",
       "                        <td id=\"T_746fbb04_bbce_11eb_b5ae_54bf643b4dferow46_col0\" class=\"data row46 col0\" >Polynomial Features</td>\n",
       "                        <td id=\"T_746fbb04_bbce_11eb_b5ae_54bf643b4dferow46_col1\" class=\"data row46 col1\" >False</td>\n",
       "            </tr>\n",
       "            <tr>\n",
       "                        <th id=\"T_746fbb04_bbce_11eb_b5ae_54bf643b4dfelevel0_row47\" class=\"row_heading level0 row47\" >47</th>\n",
       "                        <td id=\"T_746fbb04_bbce_11eb_b5ae_54bf643b4dferow47_col0\" class=\"data row47 col0\" >Polynomial Degree</td>\n",
       "                        <td id=\"T_746fbb04_bbce_11eb_b5ae_54bf643b4dferow47_col1\" class=\"data row47 col1\" >None</td>\n",
       "            </tr>\n",
       "            <tr>\n",
       "                        <th id=\"T_746fbb04_bbce_11eb_b5ae_54bf643b4dfelevel0_row48\" class=\"row_heading level0 row48\" >48</th>\n",
       "                        <td id=\"T_746fbb04_bbce_11eb_b5ae_54bf643b4dferow48_col0\" class=\"data row48 col0\" >Trignometry Features</td>\n",
       "                        <td id=\"T_746fbb04_bbce_11eb_b5ae_54bf643b4dferow48_col1\" class=\"data row48 col1\" >False</td>\n",
       "            </tr>\n",
       "            <tr>\n",
       "                        <th id=\"T_746fbb04_bbce_11eb_b5ae_54bf643b4dfelevel0_row49\" class=\"row_heading level0 row49\" >49</th>\n",
       "                        <td id=\"T_746fbb04_bbce_11eb_b5ae_54bf643b4dferow49_col0\" class=\"data row49 col0\" >Polynomial Threshold</td>\n",
       "                        <td id=\"T_746fbb04_bbce_11eb_b5ae_54bf643b4dferow49_col1\" class=\"data row49 col1\" >None</td>\n",
       "            </tr>\n",
       "            <tr>\n",
       "                        <th id=\"T_746fbb04_bbce_11eb_b5ae_54bf643b4dfelevel0_row50\" class=\"row_heading level0 row50\" >50</th>\n",
       "                        <td id=\"T_746fbb04_bbce_11eb_b5ae_54bf643b4dferow50_col0\" class=\"data row50 col0\" >Group Features</td>\n",
       "                        <td id=\"T_746fbb04_bbce_11eb_b5ae_54bf643b4dferow50_col1\" class=\"data row50 col1\" >False</td>\n",
       "            </tr>\n",
       "            <tr>\n",
       "                        <th id=\"T_746fbb04_bbce_11eb_b5ae_54bf643b4dfelevel0_row51\" class=\"row_heading level0 row51\" >51</th>\n",
       "                        <td id=\"T_746fbb04_bbce_11eb_b5ae_54bf643b4dferow51_col0\" class=\"data row51 col0\" >Feature Selection</td>\n",
       "                        <td id=\"T_746fbb04_bbce_11eb_b5ae_54bf643b4dferow51_col1\" class=\"data row51 col1\" >False</td>\n",
       "            </tr>\n",
       "            <tr>\n",
       "                        <th id=\"T_746fbb04_bbce_11eb_b5ae_54bf643b4dfelevel0_row52\" class=\"row_heading level0 row52\" >52</th>\n",
       "                        <td id=\"T_746fbb04_bbce_11eb_b5ae_54bf643b4dferow52_col0\" class=\"data row52 col0\" >Feature Selection Method</td>\n",
       "                        <td id=\"T_746fbb04_bbce_11eb_b5ae_54bf643b4dferow52_col1\" class=\"data row52 col1\" >classic</td>\n",
       "            </tr>\n",
       "            <tr>\n",
       "                        <th id=\"T_746fbb04_bbce_11eb_b5ae_54bf643b4dfelevel0_row53\" class=\"row_heading level0 row53\" >53</th>\n",
       "                        <td id=\"T_746fbb04_bbce_11eb_b5ae_54bf643b4dferow53_col0\" class=\"data row53 col0\" >Features Selection Threshold</td>\n",
       "                        <td id=\"T_746fbb04_bbce_11eb_b5ae_54bf643b4dferow53_col1\" class=\"data row53 col1\" >None</td>\n",
       "            </tr>\n",
       "            <tr>\n",
       "                        <th id=\"T_746fbb04_bbce_11eb_b5ae_54bf643b4dfelevel0_row54\" class=\"row_heading level0 row54\" >54</th>\n",
       "                        <td id=\"T_746fbb04_bbce_11eb_b5ae_54bf643b4dferow54_col0\" class=\"data row54 col0\" >Feature Interaction</td>\n",
       "                        <td id=\"T_746fbb04_bbce_11eb_b5ae_54bf643b4dferow54_col1\" class=\"data row54 col1\" >False</td>\n",
       "            </tr>\n",
       "            <tr>\n",
       "                        <th id=\"T_746fbb04_bbce_11eb_b5ae_54bf643b4dfelevel0_row55\" class=\"row_heading level0 row55\" >55</th>\n",
       "                        <td id=\"T_746fbb04_bbce_11eb_b5ae_54bf643b4dferow55_col0\" class=\"data row55 col0\" >Feature Ratio</td>\n",
       "                        <td id=\"T_746fbb04_bbce_11eb_b5ae_54bf643b4dferow55_col1\" class=\"data row55 col1\" >False</td>\n",
       "            </tr>\n",
       "            <tr>\n",
       "                        <th id=\"T_746fbb04_bbce_11eb_b5ae_54bf643b4dfelevel0_row56\" class=\"row_heading level0 row56\" >56</th>\n",
       "                        <td id=\"T_746fbb04_bbce_11eb_b5ae_54bf643b4dferow56_col0\" class=\"data row56 col0\" >Interaction Threshold</td>\n",
       "                        <td id=\"T_746fbb04_bbce_11eb_b5ae_54bf643b4dferow56_col1\" class=\"data row56 col1\" >None</td>\n",
       "            </tr>\n",
       "            <tr>\n",
       "                        <th id=\"T_746fbb04_bbce_11eb_b5ae_54bf643b4dfelevel0_row57\" class=\"row_heading level0 row57\" >57</th>\n",
       "                        <td id=\"T_746fbb04_bbce_11eb_b5ae_54bf643b4dferow57_col0\" class=\"data row57 col0\" >Fix Imbalance</td>\n",
       "                        <td id=\"T_746fbb04_bbce_11eb_b5ae_54bf643b4dferow57_col1\" class=\"data row57 col1\" >False</td>\n",
       "            </tr>\n",
       "            <tr>\n",
       "                        <th id=\"T_746fbb04_bbce_11eb_b5ae_54bf643b4dfelevel0_row58\" class=\"row_heading level0 row58\" >58</th>\n",
       "                        <td id=\"T_746fbb04_bbce_11eb_b5ae_54bf643b4dferow58_col0\" class=\"data row58 col0\" >Fix Imbalance Method</td>\n",
       "                        <td id=\"T_746fbb04_bbce_11eb_b5ae_54bf643b4dferow58_col1\" class=\"data row58 col1\" >SMOTE</td>\n",
       "            </tr>\n",
       "    </tbody></table>"
      ],
      "text/plain": [
       "<pandas.io.formats.style.Styler at 0x1cb5ff40d30>"
      ]
     },
     "metadata": {},
     "output_type": "display_data"
    }
   ],
   "source": [
    "from pycaret import classification\n",
    "# setup the environment \n",
    "classification_setup = classification.setup(data= df1, target='Exited')"
   ]
  },
  {
   "cell_type": "code",
   "execution_count": 74,
   "metadata": {},
   "outputs": [
    {
     "data": {
      "text/html": [
       "<style  type=\"text/css\" >\n",
       "    #T_1fa52dd6_bbd1_11eb_b675_54bf643b4dfe th {\n",
       "          text-align: left;\n",
       "    }#T_1fa52dd6_bbd1_11eb_b675_54bf643b4dferow0_col0,#T_1fa52dd6_bbd1_11eb_b675_54bf643b4dferow0_col3,#T_1fa52dd6_bbd1_11eb_b675_54bf643b4dferow0_col5,#T_1fa52dd6_bbd1_11eb_b675_54bf643b4dferow1_col0,#T_1fa52dd6_bbd1_11eb_b675_54bf643b4dferow1_col1,#T_1fa52dd6_bbd1_11eb_b675_54bf643b4dferow1_col2,#T_1fa52dd6_bbd1_11eb_b675_54bf643b4dferow1_col3,#T_1fa52dd6_bbd1_11eb_b675_54bf643b4dferow1_col4,#T_1fa52dd6_bbd1_11eb_b675_54bf643b4dferow1_col5,#T_1fa52dd6_bbd1_11eb_b675_54bf643b4dferow1_col6,#T_1fa52dd6_bbd1_11eb_b675_54bf643b4dferow1_col7,#T_1fa52dd6_bbd1_11eb_b675_54bf643b4dferow2_col0,#T_1fa52dd6_bbd1_11eb_b675_54bf643b4dferow2_col1,#T_1fa52dd6_bbd1_11eb_b675_54bf643b4dferow2_col2,#T_1fa52dd6_bbd1_11eb_b675_54bf643b4dferow2_col3,#T_1fa52dd6_bbd1_11eb_b675_54bf643b4dferow2_col4,#T_1fa52dd6_bbd1_11eb_b675_54bf643b4dferow2_col5,#T_1fa52dd6_bbd1_11eb_b675_54bf643b4dferow2_col6,#T_1fa52dd6_bbd1_11eb_b675_54bf643b4dferow2_col7,#T_1fa52dd6_bbd1_11eb_b675_54bf643b4dferow3_col0,#T_1fa52dd6_bbd1_11eb_b675_54bf643b4dferow3_col1,#T_1fa52dd6_bbd1_11eb_b675_54bf643b4dferow3_col2,#T_1fa52dd6_bbd1_11eb_b675_54bf643b4dferow3_col3,#T_1fa52dd6_bbd1_11eb_b675_54bf643b4dferow3_col4,#T_1fa52dd6_bbd1_11eb_b675_54bf643b4dferow3_col5,#T_1fa52dd6_bbd1_11eb_b675_54bf643b4dferow3_col6,#T_1fa52dd6_bbd1_11eb_b675_54bf643b4dferow3_col7,#T_1fa52dd6_bbd1_11eb_b675_54bf643b4dferow4_col0,#T_1fa52dd6_bbd1_11eb_b675_54bf643b4dferow4_col1,#T_1fa52dd6_bbd1_11eb_b675_54bf643b4dferow4_col2,#T_1fa52dd6_bbd1_11eb_b675_54bf643b4dferow4_col3,#T_1fa52dd6_bbd1_11eb_b675_54bf643b4dferow4_col4,#T_1fa52dd6_bbd1_11eb_b675_54bf643b4dferow4_col6,#T_1fa52dd6_bbd1_11eb_b675_54bf643b4dferow4_col7,#T_1fa52dd6_bbd1_11eb_b675_54bf643b4dferow5_col0,#T_1fa52dd6_bbd1_11eb_b675_54bf643b4dferow5_col1,#T_1fa52dd6_bbd1_11eb_b675_54bf643b4dferow5_col2,#T_1fa52dd6_bbd1_11eb_b675_54bf643b4dferow5_col3,#T_1fa52dd6_bbd1_11eb_b675_54bf643b4dferow5_col4,#T_1fa52dd6_bbd1_11eb_b675_54bf643b4dferow5_col5,#T_1fa52dd6_bbd1_11eb_b675_54bf643b4dferow5_col6,#T_1fa52dd6_bbd1_11eb_b675_54bf643b4dferow5_col7,#T_1fa52dd6_bbd1_11eb_b675_54bf643b4dferow6_col0,#T_1fa52dd6_bbd1_11eb_b675_54bf643b4dferow6_col1,#T_1fa52dd6_bbd1_11eb_b675_54bf643b4dferow6_col2,#T_1fa52dd6_bbd1_11eb_b675_54bf643b4dferow6_col3,#T_1fa52dd6_bbd1_11eb_b675_54bf643b4dferow6_col4,#T_1fa52dd6_bbd1_11eb_b675_54bf643b4dferow6_col5,#T_1fa52dd6_bbd1_11eb_b675_54bf643b4dferow6_col6,#T_1fa52dd6_bbd1_11eb_b675_54bf643b4dferow6_col7,#T_1fa52dd6_bbd1_11eb_b675_54bf643b4dferow7_col0,#T_1fa52dd6_bbd1_11eb_b675_54bf643b4dferow7_col1,#T_1fa52dd6_bbd1_11eb_b675_54bf643b4dferow7_col2,#T_1fa52dd6_bbd1_11eb_b675_54bf643b4dferow7_col3,#T_1fa52dd6_bbd1_11eb_b675_54bf643b4dferow7_col4,#T_1fa52dd6_bbd1_11eb_b675_54bf643b4dferow7_col5,#T_1fa52dd6_bbd1_11eb_b675_54bf643b4dferow7_col6,#T_1fa52dd6_bbd1_11eb_b675_54bf643b4dferow7_col7,#T_1fa52dd6_bbd1_11eb_b675_54bf643b4dferow8_col0,#T_1fa52dd6_bbd1_11eb_b675_54bf643b4dferow8_col1,#T_1fa52dd6_bbd1_11eb_b675_54bf643b4dferow8_col2,#T_1fa52dd6_bbd1_11eb_b675_54bf643b4dferow8_col3,#T_1fa52dd6_bbd1_11eb_b675_54bf643b4dferow8_col4,#T_1fa52dd6_bbd1_11eb_b675_54bf643b4dferow8_col5,#T_1fa52dd6_bbd1_11eb_b675_54bf643b4dferow8_col6,#T_1fa52dd6_bbd1_11eb_b675_54bf643b4dferow8_col7,#T_1fa52dd6_bbd1_11eb_b675_54bf643b4dferow9_col0,#T_1fa52dd6_bbd1_11eb_b675_54bf643b4dferow9_col1,#T_1fa52dd6_bbd1_11eb_b675_54bf643b4dferow9_col2,#T_1fa52dd6_bbd1_11eb_b675_54bf643b4dferow9_col3,#T_1fa52dd6_bbd1_11eb_b675_54bf643b4dferow9_col4,#T_1fa52dd6_bbd1_11eb_b675_54bf643b4dferow9_col5,#T_1fa52dd6_bbd1_11eb_b675_54bf643b4dferow9_col6,#T_1fa52dd6_bbd1_11eb_b675_54bf643b4dferow9_col7,#T_1fa52dd6_bbd1_11eb_b675_54bf643b4dferow10_col0,#T_1fa52dd6_bbd1_11eb_b675_54bf643b4dferow10_col1,#T_1fa52dd6_bbd1_11eb_b675_54bf643b4dferow10_col2,#T_1fa52dd6_bbd1_11eb_b675_54bf643b4dferow10_col3,#T_1fa52dd6_bbd1_11eb_b675_54bf643b4dferow10_col4,#T_1fa52dd6_bbd1_11eb_b675_54bf643b4dferow10_col5,#T_1fa52dd6_bbd1_11eb_b675_54bf643b4dferow10_col6,#T_1fa52dd6_bbd1_11eb_b675_54bf643b4dferow10_col7,#T_1fa52dd6_bbd1_11eb_b675_54bf643b4dferow11_col0,#T_1fa52dd6_bbd1_11eb_b675_54bf643b4dferow11_col1,#T_1fa52dd6_bbd1_11eb_b675_54bf643b4dferow11_col2,#T_1fa52dd6_bbd1_11eb_b675_54bf643b4dferow11_col3,#T_1fa52dd6_bbd1_11eb_b675_54bf643b4dferow11_col4,#T_1fa52dd6_bbd1_11eb_b675_54bf643b4dferow11_col5,#T_1fa52dd6_bbd1_11eb_b675_54bf643b4dferow11_col6,#T_1fa52dd6_bbd1_11eb_b675_54bf643b4dferow11_col7,#T_1fa52dd6_bbd1_11eb_b675_54bf643b4dferow12_col0,#T_1fa52dd6_bbd1_11eb_b675_54bf643b4dferow12_col1,#T_1fa52dd6_bbd1_11eb_b675_54bf643b4dferow12_col2,#T_1fa52dd6_bbd1_11eb_b675_54bf643b4dferow12_col3,#T_1fa52dd6_bbd1_11eb_b675_54bf643b4dferow12_col4,#T_1fa52dd6_bbd1_11eb_b675_54bf643b4dferow12_col5,#T_1fa52dd6_bbd1_11eb_b675_54bf643b4dferow12_col6,#T_1fa52dd6_bbd1_11eb_b675_54bf643b4dferow12_col7,#T_1fa52dd6_bbd1_11eb_b675_54bf643b4dferow13_col0,#T_1fa52dd6_bbd1_11eb_b675_54bf643b4dferow13_col1,#T_1fa52dd6_bbd1_11eb_b675_54bf643b4dferow13_col2,#T_1fa52dd6_bbd1_11eb_b675_54bf643b4dferow13_col4,#T_1fa52dd6_bbd1_11eb_b675_54bf643b4dferow13_col5,#T_1fa52dd6_bbd1_11eb_b675_54bf643b4dferow13_col6,#T_1fa52dd6_bbd1_11eb_b675_54bf643b4dferow13_col7{\n",
       "            text-align:  left;\n",
       "            text-align:  left;\n",
       "        }#T_1fa52dd6_bbd1_11eb_b675_54bf643b4dferow0_col1,#T_1fa52dd6_bbd1_11eb_b675_54bf643b4dferow0_col2,#T_1fa52dd6_bbd1_11eb_b675_54bf643b4dferow0_col4,#T_1fa52dd6_bbd1_11eb_b675_54bf643b4dferow0_col6,#T_1fa52dd6_bbd1_11eb_b675_54bf643b4dferow0_col7,#T_1fa52dd6_bbd1_11eb_b675_54bf643b4dferow4_col5,#T_1fa52dd6_bbd1_11eb_b675_54bf643b4dferow13_col3{\n",
       "            text-align:  left;\n",
       "            text-align:  left;\n",
       "            background-color:  yellow;\n",
       "        }#T_1fa52dd6_bbd1_11eb_b675_54bf643b4dferow0_col8,#T_1fa52dd6_bbd1_11eb_b675_54bf643b4dferow1_col8,#T_1fa52dd6_bbd1_11eb_b675_54bf643b4dferow2_col8,#T_1fa52dd6_bbd1_11eb_b675_54bf643b4dferow3_col8,#T_1fa52dd6_bbd1_11eb_b675_54bf643b4dferow4_col8,#T_1fa52dd6_bbd1_11eb_b675_54bf643b4dferow5_col8,#T_1fa52dd6_bbd1_11eb_b675_54bf643b4dferow6_col8,#T_1fa52dd6_bbd1_11eb_b675_54bf643b4dferow7_col8,#T_1fa52dd6_bbd1_11eb_b675_54bf643b4dferow8_col8,#T_1fa52dd6_bbd1_11eb_b675_54bf643b4dferow9_col8,#T_1fa52dd6_bbd1_11eb_b675_54bf643b4dferow11_col8,#T_1fa52dd6_bbd1_11eb_b675_54bf643b4dferow12_col8,#T_1fa52dd6_bbd1_11eb_b675_54bf643b4dferow13_col8{\n",
       "            text-align:  left;\n",
       "            text-align:  left;\n",
       "            background-color:  lightgrey;\n",
       "        }#T_1fa52dd6_bbd1_11eb_b675_54bf643b4dferow10_col8{\n",
       "            text-align:  left;\n",
       "            text-align:  left;\n",
       "            background-color:  yellow;\n",
       "            background-color:  lightgrey;\n",
       "        }</style><table id=\"T_1fa52dd6_bbd1_11eb_b675_54bf643b4dfe\" ><thead>    <tr>        <th class=\"blank level0\" ></th>        <th class=\"col_heading level0 col0\" >Model</th>        <th class=\"col_heading level0 col1\" >Accuracy</th>        <th class=\"col_heading level0 col2\" >AUC</th>        <th class=\"col_heading level0 col3\" >Recall</th>        <th class=\"col_heading level0 col4\" >Prec.</th>        <th class=\"col_heading level0 col5\" >F1</th>        <th class=\"col_heading level0 col6\" >Kappa</th>        <th class=\"col_heading level0 col7\" >MCC</th>        <th class=\"col_heading level0 col8\" >TT (Sec)</th>    </tr></thead><tbody>\n",
       "                <tr>\n",
       "                        <th id=\"T_1fa52dd6_bbd1_11eb_b675_54bf643b4dfelevel0_row0\" class=\"row_heading level0 row0\" >gbc</th>\n",
       "                        <td id=\"T_1fa52dd6_bbd1_11eb_b675_54bf643b4dferow0_col0\" class=\"data row0 col0\" >Gradient Boosting Classifier</td>\n",
       "                        <td id=\"T_1fa52dd6_bbd1_11eb_b675_54bf643b4dferow0_col1\" class=\"data row0 col1\" >0.8634</td>\n",
       "                        <td id=\"T_1fa52dd6_bbd1_11eb_b675_54bf643b4dferow0_col2\" class=\"data row0 col2\" >0.8593</td>\n",
       "                        <td id=\"T_1fa52dd6_bbd1_11eb_b675_54bf643b4dferow0_col3\" class=\"data row0 col3\" >0.4664</td>\n",
       "                        <td id=\"T_1fa52dd6_bbd1_11eb_b675_54bf643b4dferow0_col4\" class=\"data row0 col4\" >0.7823</td>\n",
       "                        <td id=\"T_1fa52dd6_bbd1_11eb_b675_54bf643b4dferow0_col5\" class=\"data row0 col5\" >0.5840</td>\n",
       "                        <td id=\"T_1fa52dd6_bbd1_11eb_b675_54bf643b4dferow0_col6\" class=\"data row0 col6\" >0.5086</td>\n",
       "                        <td id=\"T_1fa52dd6_bbd1_11eb_b675_54bf643b4dferow0_col7\" class=\"data row0 col7\" >0.5332</td>\n",
       "                        <td id=\"T_1fa52dd6_bbd1_11eb_b675_54bf643b4dferow0_col8\" class=\"data row0 col8\" >0.2260</td>\n",
       "            </tr>\n",
       "            <tr>\n",
       "                        <th id=\"T_1fa52dd6_bbd1_11eb_b675_54bf643b4dfelevel0_row1\" class=\"row_heading level0 row1\" >rf</th>\n",
       "                        <td id=\"T_1fa52dd6_bbd1_11eb_b675_54bf643b4dferow1_col0\" class=\"data row1 col0\" >Random Forest Classifier</td>\n",
       "                        <td id=\"T_1fa52dd6_bbd1_11eb_b675_54bf643b4dferow1_col1\" class=\"data row1 col1\" >0.8587</td>\n",
       "                        <td id=\"T_1fa52dd6_bbd1_11eb_b675_54bf643b4dferow1_col2\" class=\"data row1 col2\" >0.8474</td>\n",
       "                        <td id=\"T_1fa52dd6_bbd1_11eb_b675_54bf643b4dferow1_col3\" class=\"data row1 col3\" >0.4477</td>\n",
       "                        <td id=\"T_1fa52dd6_bbd1_11eb_b675_54bf643b4dferow1_col4\" class=\"data row1 col4\" >0.7711</td>\n",
       "                        <td id=\"T_1fa52dd6_bbd1_11eb_b675_54bf643b4dferow1_col5\" class=\"data row1 col5\" >0.5654</td>\n",
       "                        <td id=\"T_1fa52dd6_bbd1_11eb_b675_54bf643b4dferow1_col6\" class=\"data row1 col6\" >0.4883</td>\n",
       "                        <td id=\"T_1fa52dd6_bbd1_11eb_b675_54bf643b4dferow1_col7\" class=\"data row1 col7\" >0.5146</td>\n",
       "                        <td id=\"T_1fa52dd6_bbd1_11eb_b675_54bf643b4dferow1_col8\" class=\"data row1 col8\" >0.1750</td>\n",
       "            </tr>\n",
       "            <tr>\n",
       "                        <th id=\"T_1fa52dd6_bbd1_11eb_b675_54bf643b4dfelevel0_row2\" class=\"row_heading level0 row2\" >lightgbm</th>\n",
       "                        <td id=\"T_1fa52dd6_bbd1_11eb_b675_54bf643b4dferow2_col0\" class=\"data row2 col0\" >Light Gradient Boosting Machine</td>\n",
       "                        <td id=\"T_1fa52dd6_bbd1_11eb_b675_54bf643b4dferow2_col1\" class=\"data row2 col1\" >0.8578</td>\n",
       "                        <td id=\"T_1fa52dd6_bbd1_11eb_b675_54bf643b4dferow2_col2\" class=\"data row2 col2\" >0.8516</td>\n",
       "                        <td id=\"T_1fa52dd6_bbd1_11eb_b675_54bf643b4dferow2_col3\" class=\"data row2 col3\" >0.4907</td>\n",
       "                        <td id=\"T_1fa52dd6_bbd1_11eb_b675_54bf643b4dferow2_col4\" class=\"data row2 col4\" >0.7313</td>\n",
       "                        <td id=\"T_1fa52dd6_bbd1_11eb_b675_54bf643b4dferow2_col5\" class=\"data row2 col5\" >0.5868</td>\n",
       "                        <td id=\"T_1fa52dd6_bbd1_11eb_b675_54bf643b4dferow2_col6\" class=\"data row2 col6\" >0.5050</td>\n",
       "                        <td id=\"T_1fa52dd6_bbd1_11eb_b675_54bf643b4dferow2_col7\" class=\"data row2 col7\" >0.5199</td>\n",
       "                        <td id=\"T_1fa52dd6_bbd1_11eb_b675_54bf643b4dferow2_col8\" class=\"data row2 col8\" >0.1960</td>\n",
       "            </tr>\n",
       "            <tr>\n",
       "                        <th id=\"T_1fa52dd6_bbd1_11eb_b675_54bf643b4dfelevel0_row3\" class=\"row_heading level0 row3\" >ada</th>\n",
       "                        <td id=\"T_1fa52dd6_bbd1_11eb_b675_54bf643b4dferow3_col0\" class=\"data row3 col0\" >Ada Boost Classifier</td>\n",
       "                        <td id=\"T_1fa52dd6_bbd1_11eb_b675_54bf643b4dferow3_col1\" class=\"data row3 col1\" >0.8573</td>\n",
       "                        <td id=\"T_1fa52dd6_bbd1_11eb_b675_54bf643b4dferow3_col2\" class=\"data row3 col2\" >0.8433</td>\n",
       "                        <td id=\"T_1fa52dd6_bbd1_11eb_b675_54bf643b4dferow3_col3\" class=\"data row3 col3\" >0.4823</td>\n",
       "                        <td id=\"T_1fa52dd6_bbd1_11eb_b675_54bf643b4dferow3_col4\" class=\"data row3 col4\" >0.7352</td>\n",
       "                        <td id=\"T_1fa52dd6_bbd1_11eb_b675_54bf643b4dferow3_col5\" class=\"data row3 col5\" >0.5821</td>\n",
       "                        <td id=\"T_1fa52dd6_bbd1_11eb_b675_54bf643b4dferow3_col6\" class=\"data row3 col6\" >0.5005</td>\n",
       "                        <td id=\"T_1fa52dd6_bbd1_11eb_b675_54bf643b4dferow3_col7\" class=\"data row3 col7\" >0.5169</td>\n",
       "                        <td id=\"T_1fa52dd6_bbd1_11eb_b675_54bf643b4dferow3_col8\" class=\"data row3 col8\" >0.0840</td>\n",
       "            </tr>\n",
       "            <tr>\n",
       "                        <th id=\"T_1fa52dd6_bbd1_11eb_b675_54bf643b4dfelevel0_row4\" class=\"row_heading level0 row4\" >xgboost</th>\n",
       "                        <td id=\"T_1fa52dd6_bbd1_11eb_b675_54bf643b4dferow4_col0\" class=\"data row4 col0\" >Extreme Gradient Boosting</td>\n",
       "                        <td id=\"T_1fa52dd6_bbd1_11eb_b675_54bf643b4dferow4_col1\" class=\"data row4 col1\" >0.8560</td>\n",
       "                        <td id=\"T_1fa52dd6_bbd1_11eb_b675_54bf643b4dferow4_col2\" class=\"data row4 col2\" >0.8390</td>\n",
       "                        <td id=\"T_1fa52dd6_bbd1_11eb_b675_54bf643b4dferow4_col3\" class=\"data row4 col3\" >0.4976</td>\n",
       "                        <td id=\"T_1fa52dd6_bbd1_11eb_b675_54bf643b4dferow4_col4\" class=\"data row4 col4\" >0.7178</td>\n",
       "                        <td id=\"T_1fa52dd6_bbd1_11eb_b675_54bf643b4dferow4_col5\" class=\"data row4 col5\" >0.5874</td>\n",
       "                        <td id=\"T_1fa52dd6_bbd1_11eb_b675_54bf643b4dferow4_col6\" class=\"data row4 col6\" >0.5036</td>\n",
       "                        <td id=\"T_1fa52dd6_bbd1_11eb_b675_54bf643b4dferow4_col7\" class=\"data row4 col7\" >0.5163</td>\n",
       "                        <td id=\"T_1fa52dd6_bbd1_11eb_b675_54bf643b4dferow4_col8\" class=\"data row4 col8\" >0.5200</td>\n",
       "            </tr>\n",
       "            <tr>\n",
       "                        <th id=\"T_1fa52dd6_bbd1_11eb_b675_54bf643b4dfelevel0_row5\" class=\"row_heading level0 row5\" >et</th>\n",
       "                        <td id=\"T_1fa52dd6_bbd1_11eb_b675_54bf643b4dferow5_col0\" class=\"data row5 col0\" >Extra Trees Classifier</td>\n",
       "                        <td id=\"T_1fa52dd6_bbd1_11eb_b675_54bf643b4dferow5_col1\" class=\"data row5 col1\" >0.8403</td>\n",
       "                        <td id=\"T_1fa52dd6_bbd1_11eb_b675_54bf643b4dferow5_col2\" class=\"data row5 col2\" >0.8281</td>\n",
       "                        <td id=\"T_1fa52dd6_bbd1_11eb_b675_54bf643b4dferow5_col3\" class=\"data row5 col3\" >0.4054</td>\n",
       "                        <td id=\"T_1fa52dd6_bbd1_11eb_b675_54bf643b4dferow5_col4\" class=\"data row5 col4\" >0.6929</td>\n",
       "                        <td id=\"T_1fa52dd6_bbd1_11eb_b675_54bf643b4dferow5_col5\" class=\"data row5 col5\" >0.5107</td>\n",
       "                        <td id=\"T_1fa52dd6_bbd1_11eb_b675_54bf643b4dferow5_col6\" class=\"data row5 col6\" >0.4232</td>\n",
       "                        <td id=\"T_1fa52dd6_bbd1_11eb_b675_54bf643b4dferow5_col7\" class=\"data row5 col7\" >0.4452</td>\n",
       "                        <td id=\"T_1fa52dd6_bbd1_11eb_b675_54bf643b4dferow5_col8\" class=\"data row5 col8\" >0.1770</td>\n",
       "            </tr>\n",
       "            <tr>\n",
       "                        <th id=\"T_1fa52dd6_bbd1_11eb_b675_54bf643b4dfelevel0_row6\" class=\"row_heading level0 row6\" >lda</th>\n",
       "                        <td id=\"T_1fa52dd6_bbd1_11eb_b675_54bf643b4dferow6_col0\" class=\"data row6 col0\" >Linear Discriminant Analysis</td>\n",
       "                        <td id=\"T_1fa52dd6_bbd1_11eb_b675_54bf643b4dferow6_col1\" class=\"data row6 col1\" >0.8308</td>\n",
       "                        <td id=\"T_1fa52dd6_bbd1_11eb_b675_54bf643b4dferow6_col2\" class=\"data row6 col2\" >0.8229</td>\n",
       "                        <td id=\"T_1fa52dd6_bbd1_11eb_b675_54bf643b4dferow6_col3\" class=\"data row6 col3\" >0.3098</td>\n",
       "                        <td id=\"T_1fa52dd6_bbd1_11eb_b675_54bf643b4dferow6_col4\" class=\"data row6 col4\" >0.7031</td>\n",
       "                        <td id=\"T_1fa52dd6_bbd1_11eb_b675_54bf643b4dferow6_col5\" class=\"data row6 col5\" >0.4289</td>\n",
       "                        <td id=\"T_1fa52dd6_bbd1_11eb_b675_54bf643b4dferow6_col6\" class=\"data row6 col6\" >0.3472</td>\n",
       "                        <td id=\"T_1fa52dd6_bbd1_11eb_b675_54bf643b4dferow6_col7\" class=\"data row6 col7\" >0.3879</td>\n",
       "                        <td id=\"T_1fa52dd6_bbd1_11eb_b675_54bf643b4dferow6_col8\" class=\"data row6 col8\" >0.0610</td>\n",
       "            </tr>\n",
       "            <tr>\n",
       "                        <th id=\"T_1fa52dd6_bbd1_11eb_b675_54bf643b4dfelevel0_row7\" class=\"row_heading level0 row7\" >ridge</th>\n",
       "                        <td id=\"T_1fa52dd6_bbd1_11eb_b675_54bf643b4dferow7_col0\" class=\"data row7 col0\" >Ridge Classifier</td>\n",
       "                        <td id=\"T_1fa52dd6_bbd1_11eb_b675_54bf643b4dferow7_col1\" class=\"data row7 col1\" >0.8253</td>\n",
       "                        <td id=\"T_1fa52dd6_bbd1_11eb_b675_54bf643b4dferow7_col2\" class=\"data row7 col2\" >0.0000</td>\n",
       "                        <td id=\"T_1fa52dd6_bbd1_11eb_b675_54bf643b4dferow7_col3\" class=\"data row7 col3\" >0.2232</td>\n",
       "                        <td id=\"T_1fa52dd6_bbd1_11eb_b675_54bf643b4dferow7_col4\" class=\"data row7 col4\" >0.7561</td>\n",
       "                        <td id=\"T_1fa52dd6_bbd1_11eb_b675_54bf643b4dferow7_col5\" class=\"data row7 col5\" >0.3438</td>\n",
       "                        <td id=\"T_1fa52dd6_bbd1_11eb_b675_54bf643b4dferow7_col6\" class=\"data row7 col6\" >0.2765</td>\n",
       "                        <td id=\"T_1fa52dd6_bbd1_11eb_b675_54bf643b4dferow7_col7\" class=\"data row7 col7\" >0.3458</td>\n",
       "                        <td id=\"T_1fa52dd6_bbd1_11eb_b675_54bf643b4dferow7_col8\" class=\"data row7 col8\" >0.0410</td>\n",
       "            </tr>\n",
       "            <tr>\n",
       "                        <th id=\"T_1fa52dd6_bbd1_11eb_b675_54bf643b4dfelevel0_row8\" class=\"row_heading level0 row8\" >dt</th>\n",
       "                        <td id=\"T_1fa52dd6_bbd1_11eb_b675_54bf643b4dferow8_col0\" class=\"data row8 col0\" >Decision Tree Classifier</td>\n",
       "                        <td id=\"T_1fa52dd6_bbd1_11eb_b675_54bf643b4dferow8_col1\" class=\"data row8 col1\" >0.7910</td>\n",
       "                        <td id=\"T_1fa52dd6_bbd1_11eb_b675_54bf643b4dferow8_col2\" class=\"data row8 col2\" >0.6898</td>\n",
       "                        <td id=\"T_1fa52dd6_bbd1_11eb_b675_54bf643b4dferow8_col3\" class=\"data row8 col3\" >0.5177</td>\n",
       "                        <td id=\"T_1fa52dd6_bbd1_11eb_b675_54bf643b4dferow8_col4\" class=\"data row8 col4\" >0.4952</td>\n",
       "                        <td id=\"T_1fa52dd6_bbd1_11eb_b675_54bf643b4dferow8_col5\" class=\"data row8 col5\" >0.5053</td>\n",
       "                        <td id=\"T_1fa52dd6_bbd1_11eb_b675_54bf643b4dferow8_col6\" class=\"data row8 col6\" >0.3731</td>\n",
       "                        <td id=\"T_1fa52dd6_bbd1_11eb_b675_54bf643b4dferow8_col7\" class=\"data row8 col7\" >0.3738</td>\n",
       "                        <td id=\"T_1fa52dd6_bbd1_11eb_b675_54bf643b4dferow8_col8\" class=\"data row8 col8\" >0.0140</td>\n",
       "            </tr>\n",
       "            <tr>\n",
       "                        <th id=\"T_1fa52dd6_bbd1_11eb_b675_54bf643b4dfelevel0_row9\" class=\"row_heading level0 row9\" >lr</th>\n",
       "                        <td id=\"T_1fa52dd6_bbd1_11eb_b675_54bf643b4dferow9_col0\" class=\"data row9 col0\" >Logistic Regression</td>\n",
       "                        <td id=\"T_1fa52dd6_bbd1_11eb_b675_54bf643b4dferow9_col1\" class=\"data row9 col1\" >0.7878</td>\n",
       "                        <td id=\"T_1fa52dd6_bbd1_11eb_b675_54bf643b4dferow9_col2\" class=\"data row9 col2\" >0.6667</td>\n",
       "                        <td id=\"T_1fa52dd6_bbd1_11eb_b675_54bf643b4dferow9_col3\" class=\"data row9 col3\" >0.0588</td>\n",
       "                        <td id=\"T_1fa52dd6_bbd1_11eb_b675_54bf643b4dferow9_col4\" class=\"data row9 col4\" >0.3699</td>\n",
       "                        <td id=\"T_1fa52dd6_bbd1_11eb_b675_54bf643b4dferow9_col5\" class=\"data row9 col5\" >0.1006</td>\n",
       "                        <td id=\"T_1fa52dd6_bbd1_11eb_b675_54bf643b4dferow9_col6\" class=\"data row9 col6\" >0.0520</td>\n",
       "                        <td id=\"T_1fa52dd6_bbd1_11eb_b675_54bf643b4dferow9_col7\" class=\"data row9 col7\" >0.0819</td>\n",
       "                        <td id=\"T_1fa52dd6_bbd1_11eb_b675_54bf643b4dferow9_col8\" class=\"data row9 col8\" >0.6880</td>\n",
       "            </tr>\n",
       "            <tr>\n",
       "                        <th id=\"T_1fa52dd6_bbd1_11eb_b675_54bf643b4dfelevel0_row10\" class=\"row_heading level0 row10\" >nb</th>\n",
       "                        <td id=\"T_1fa52dd6_bbd1_11eb_b675_54bf643b4dferow10_col0\" class=\"data row10 col0\" >Naive Bayes</td>\n",
       "                        <td id=\"T_1fa52dd6_bbd1_11eb_b675_54bf643b4dferow10_col1\" class=\"data row10 col1\" >0.7840</td>\n",
       "                        <td id=\"T_1fa52dd6_bbd1_11eb_b675_54bf643b4dferow10_col2\" class=\"data row10 col2\" >0.7543</td>\n",
       "                        <td id=\"T_1fa52dd6_bbd1_11eb_b675_54bf643b4dferow10_col3\" class=\"data row10 col3\" >0.1123</td>\n",
       "                        <td id=\"T_1fa52dd6_bbd1_11eb_b675_54bf643b4dferow10_col4\" class=\"data row10 col4\" >0.4087</td>\n",
       "                        <td id=\"T_1fa52dd6_bbd1_11eb_b675_54bf643b4dferow10_col5\" class=\"data row10 col5\" >0.1757</td>\n",
       "                        <td id=\"T_1fa52dd6_bbd1_11eb_b675_54bf643b4dferow10_col6\" class=\"data row10 col6\" >0.0964</td>\n",
       "                        <td id=\"T_1fa52dd6_bbd1_11eb_b675_54bf643b4dferow10_col7\" class=\"data row10 col7\" >0.1230</td>\n",
       "                        <td id=\"T_1fa52dd6_bbd1_11eb_b675_54bf643b4dferow10_col8\" class=\"data row10 col8\" >0.0080</td>\n",
       "            </tr>\n",
       "            <tr>\n",
       "                        <th id=\"T_1fa52dd6_bbd1_11eb_b675_54bf643b4dfelevel0_row11\" class=\"row_heading level0 row11\" >knn</th>\n",
       "                        <td id=\"T_1fa52dd6_bbd1_11eb_b675_54bf643b4dferow11_col0\" class=\"data row11 col0\" >K Neighbors Classifier</td>\n",
       "                        <td id=\"T_1fa52dd6_bbd1_11eb_b675_54bf643b4dferow11_col1\" class=\"data row11 col1\" >0.7573</td>\n",
       "                        <td id=\"T_1fa52dd6_bbd1_11eb_b675_54bf643b4dferow11_col2\" class=\"data row11 col2\" >0.5218</td>\n",
       "                        <td id=\"T_1fa52dd6_bbd1_11eb_b675_54bf643b4dferow11_col3\" class=\"data row11 col3\" >0.0790</td>\n",
       "                        <td id=\"T_1fa52dd6_bbd1_11eb_b675_54bf643b4dferow11_col4\" class=\"data row11 col4\" >0.2357</td>\n",
       "                        <td id=\"T_1fa52dd6_bbd1_11eb_b675_54bf643b4dferow11_col5\" class=\"data row11 col5\" >0.1177</td>\n",
       "                        <td id=\"T_1fa52dd6_bbd1_11eb_b675_54bf643b4dferow11_col6\" class=\"data row11 col6\" >0.0164</td>\n",
       "                        <td id=\"T_1fa52dd6_bbd1_11eb_b675_54bf643b4dferow11_col7\" class=\"data row11 col7\" >0.0198</td>\n",
       "                        <td id=\"T_1fa52dd6_bbd1_11eb_b675_54bf643b4dferow11_col8\" class=\"data row11 col8\" >0.0300</td>\n",
       "            </tr>\n",
       "            <tr>\n",
       "                        <th id=\"T_1fa52dd6_bbd1_11eb_b675_54bf643b4dfelevel0_row12\" class=\"row_heading level0 row12\" >svm</th>\n",
       "                        <td id=\"T_1fa52dd6_bbd1_11eb_b675_54bf643b4dferow12_col0\" class=\"data row12 col0\" >SVM - Linear Kernel</td>\n",
       "                        <td id=\"T_1fa52dd6_bbd1_11eb_b675_54bf643b4dferow12_col1\" class=\"data row12 col1\" >0.6914</td>\n",
       "                        <td id=\"T_1fa52dd6_bbd1_11eb_b675_54bf643b4dferow12_col2\" class=\"data row12 col2\" >0.0000</td>\n",
       "                        <td id=\"T_1fa52dd6_bbd1_11eb_b675_54bf643b4dferow12_col3\" class=\"data row12 col3\" >0.2202</td>\n",
       "                        <td id=\"T_1fa52dd6_bbd1_11eb_b675_54bf643b4dferow12_col4\" class=\"data row12 col4\" >0.1173</td>\n",
       "                        <td id=\"T_1fa52dd6_bbd1_11eb_b675_54bf643b4dferow12_col5\" class=\"data row12 col5\" >0.1334</td>\n",
       "                        <td id=\"T_1fa52dd6_bbd1_11eb_b675_54bf643b4dferow12_col6\" class=\"data row12 col6\" >0.0235</td>\n",
       "                        <td id=\"T_1fa52dd6_bbd1_11eb_b675_54bf643b4dferow12_col7\" class=\"data row12 col7\" >0.0301</td>\n",
       "                        <td id=\"T_1fa52dd6_bbd1_11eb_b675_54bf643b4dferow12_col8\" class=\"data row12 col8\" >0.0300</td>\n",
       "            </tr>\n",
       "            <tr>\n",
       "                        <th id=\"T_1fa52dd6_bbd1_11eb_b675_54bf643b4dfelevel0_row13\" class=\"row_heading level0 row13\" >qda</th>\n",
       "                        <td id=\"T_1fa52dd6_bbd1_11eb_b675_54bf643b4dferow13_col0\" class=\"data row13 col0\" >Quadratic Discriminant Analysis</td>\n",
       "                        <td id=\"T_1fa52dd6_bbd1_11eb_b675_54bf643b4dferow13_col1\" class=\"data row13 col1\" >0.2062</td>\n",
       "                        <td id=\"T_1fa52dd6_bbd1_11eb_b675_54bf643b4dferow13_col2\" class=\"data row13 col2\" >0.5000</td>\n",
       "                        <td id=\"T_1fa52dd6_bbd1_11eb_b675_54bf643b4dferow13_col3\" class=\"data row13 col3\" >1.0000</td>\n",
       "                        <td id=\"T_1fa52dd6_bbd1_11eb_b675_54bf643b4dferow13_col4\" class=\"data row13 col4\" >0.2062</td>\n",
       "                        <td id=\"T_1fa52dd6_bbd1_11eb_b675_54bf643b4dferow13_col5\" class=\"data row13 col5\" >0.3419</td>\n",
       "                        <td id=\"T_1fa52dd6_bbd1_11eb_b675_54bf643b4dferow13_col6\" class=\"data row13 col6\" >0.0000</td>\n",
       "                        <td id=\"T_1fa52dd6_bbd1_11eb_b675_54bf643b4dferow13_col7\" class=\"data row13 col7\" >0.0000</td>\n",
       "                        <td id=\"T_1fa52dd6_bbd1_11eb_b675_54bf643b4dferow13_col8\" class=\"data row13 col8\" >0.0790</td>\n",
       "            </tr>\n",
       "    </tbody></table>"
      ],
      "text/plain": [
       "<pandas.io.formats.style.Styler at 0x1cb57788eb0>"
      ]
     },
     "metadata": {},
     "output_type": "display_data"
    },
    {
     "data": {
      "text/plain": [
       "GradientBoostingClassifier(ccp_alpha=0.0, criterion='friedman_mse', init=None,\n",
       "                           learning_rate=0.1, loss='deviance', max_depth=3,\n",
       "                           max_features=None, max_leaf_nodes=None,\n",
       "                           min_impurity_decrease=0.0, min_impurity_split=None,\n",
       "                           min_samples_leaf=1, min_samples_split=2,\n",
       "                           min_weight_fraction_leaf=0.0, n_estimators=100,\n",
       "                           n_iter_no_change=None, presort='deprecated',\n",
       "                           random_state=8493, subsample=1.0, tol=0.0001,\n",
       "                           validation_fraction=0.1, verbose=0,\n",
       "                           warm_start=False)"
      ]
     },
     "execution_count": 74,
     "metadata": {},
     "output_type": "execute_result"
    }
   ],
   "source": [
    "classification.compare_models()"
   ]
  },
  {
   "cell_type": "code",
   "execution_count": 75,
   "metadata": {},
   "outputs": [
    {
     "data": {
      "text/html": [
       "<style  type=\"text/css\" >\n",
       "#T_3bdd27f1_bbd1_11eb_bd3b_54bf643b4dferow10_col0,#T_3bdd27f1_bbd1_11eb_bd3b_54bf643b4dferow10_col1,#T_3bdd27f1_bbd1_11eb_bd3b_54bf643b4dferow10_col2,#T_3bdd27f1_bbd1_11eb_bd3b_54bf643b4dferow10_col3,#T_3bdd27f1_bbd1_11eb_bd3b_54bf643b4dferow10_col4,#T_3bdd27f1_bbd1_11eb_bd3b_54bf643b4dferow10_col5,#T_3bdd27f1_bbd1_11eb_bd3b_54bf643b4dferow10_col6{\n",
       "            background:  yellow;\n",
       "        }</style><table id=\"T_3bdd27f1_bbd1_11eb_bd3b_54bf643b4dfe\" ><thead>    <tr>        <th class=\"blank level0\" ></th>        <th class=\"col_heading level0 col0\" >Accuracy</th>        <th class=\"col_heading level0 col1\" >AUC</th>        <th class=\"col_heading level0 col2\" >Recall</th>        <th class=\"col_heading level0 col3\" >Prec.</th>        <th class=\"col_heading level0 col4\" >F1</th>        <th class=\"col_heading level0 col5\" >Kappa</th>        <th class=\"col_heading level0 col6\" >MCC</th>    </tr></thead><tbody>\n",
       "                <tr>\n",
       "                        <th id=\"T_3bdd27f1_bbd1_11eb_bd3b_54bf643b4dfelevel0_row0\" class=\"row_heading level0 row0\" >0</th>\n",
       "                        <td id=\"T_3bdd27f1_bbd1_11eb_bd3b_54bf643b4dferow0_col0\" class=\"data row0 col0\" >0.8443</td>\n",
       "                        <td id=\"T_3bdd27f1_bbd1_11eb_bd3b_54bf643b4dferow0_col1\" class=\"data row0 col1\" >0.8724</td>\n",
       "                        <td id=\"T_3bdd27f1_bbd1_11eb_bd3b_54bf643b4dferow0_col2\" class=\"data row0 col2\" >0.4000</td>\n",
       "                        <td id=\"T_3bdd27f1_bbd1_11eb_bd3b_54bf643b4dferow0_col3\" class=\"data row0 col3\" >0.7250</td>\n",
       "                        <td id=\"T_3bdd27f1_bbd1_11eb_bd3b_54bf643b4dferow0_col4\" class=\"data row0 col4\" >0.5156</td>\n",
       "                        <td id=\"T_3bdd27f1_bbd1_11eb_bd3b_54bf643b4dferow0_col5\" class=\"data row0 col5\" >0.4319</td>\n",
       "                        <td id=\"T_3bdd27f1_bbd1_11eb_bd3b_54bf643b4dferow0_col6\" class=\"data row0 col6\" >0.4590</td>\n",
       "            </tr>\n",
       "            <tr>\n",
       "                        <th id=\"T_3bdd27f1_bbd1_11eb_bd3b_54bf643b4dfelevel0_row1\" class=\"row_heading level0 row1\" >1</th>\n",
       "                        <td id=\"T_3bdd27f1_bbd1_11eb_bd3b_54bf643b4dferow1_col0\" class=\"data row1 col0\" >0.8529</td>\n",
       "                        <td id=\"T_3bdd27f1_bbd1_11eb_bd3b_54bf643b4dferow1_col1\" class=\"data row1 col1\" >0.8422</td>\n",
       "                        <td id=\"T_3bdd27f1_bbd1_11eb_bd3b_54bf643b4dferow1_col2\" class=\"data row1 col2\" >0.4276</td>\n",
       "                        <td id=\"T_3bdd27f1_bbd1_11eb_bd3b_54bf643b4dferow1_col3\" class=\"data row1 col3\" >0.7561</td>\n",
       "                        <td id=\"T_3bdd27f1_bbd1_11eb_bd3b_54bf643b4dferow1_col4\" class=\"data row1 col4\" >0.5463</td>\n",
       "                        <td id=\"T_3bdd27f1_bbd1_11eb_bd3b_54bf643b4dferow1_col5\" class=\"data row1 col5\" >0.4664</td>\n",
       "                        <td id=\"T_3bdd27f1_bbd1_11eb_bd3b_54bf643b4dferow1_col6\" class=\"data row1 col6\" >0.4934</td>\n",
       "            </tr>\n",
       "            <tr>\n",
       "                        <th id=\"T_3bdd27f1_bbd1_11eb_bd3b_54bf643b4dfelevel0_row2\" class=\"row_heading level0 row2\" >2</th>\n",
       "                        <td id=\"T_3bdd27f1_bbd1_11eb_bd3b_54bf643b4dferow2_col0\" class=\"data row2 col0\" >0.8800</td>\n",
       "                        <td id=\"T_3bdd27f1_bbd1_11eb_bd3b_54bf643b4dferow2_col1\" class=\"data row2 col1\" >0.8550</td>\n",
       "                        <td id=\"T_3bdd27f1_bbd1_11eb_bd3b_54bf643b4dferow2_col2\" class=\"data row2 col2\" >0.5103</td>\n",
       "                        <td id=\"T_3bdd27f1_bbd1_11eb_bd3b_54bf643b4dferow2_col3\" class=\"data row2 col3\" >0.8506</td>\n",
       "                        <td id=\"T_3bdd27f1_bbd1_11eb_bd3b_54bf643b4dferow2_col4\" class=\"data row2 col4\" >0.6379</td>\n",
       "                        <td id=\"T_3bdd27f1_bbd1_11eb_bd3b_54bf643b4dferow2_col5\" class=\"data row2 col5\" >0.5713</td>\n",
       "                        <td id=\"T_3bdd27f1_bbd1_11eb_bd3b_54bf643b4dferow2_col6\" class=\"data row2 col6\" >0.5981</td>\n",
       "            </tr>\n",
       "            <tr>\n",
       "                        <th id=\"T_3bdd27f1_bbd1_11eb_bd3b_54bf643b4dfelevel0_row3\" class=\"row_heading level0 row3\" >3</th>\n",
       "                        <td id=\"T_3bdd27f1_bbd1_11eb_bd3b_54bf643b4dferow3_col0\" class=\"data row3 col0\" >0.8700</td>\n",
       "                        <td id=\"T_3bdd27f1_bbd1_11eb_bd3b_54bf643b4dferow3_col1\" class=\"data row3 col1\" >0.8617</td>\n",
       "                        <td id=\"T_3bdd27f1_bbd1_11eb_bd3b_54bf643b4dferow3_col2\" class=\"data row3 col2\" >0.4931</td>\n",
       "                        <td id=\"T_3bdd27f1_bbd1_11eb_bd3b_54bf643b4dferow3_col3\" class=\"data row3 col3\" >0.7978</td>\n",
       "                        <td id=\"T_3bdd27f1_bbd1_11eb_bd3b_54bf643b4dferow3_col4\" class=\"data row3 col4\" >0.6094</td>\n",
       "                        <td id=\"T_3bdd27f1_bbd1_11eb_bd3b_54bf643b4dferow3_col5\" class=\"data row3 col5\" >0.5366</td>\n",
       "                        <td id=\"T_3bdd27f1_bbd1_11eb_bd3b_54bf643b4dferow3_col6\" class=\"data row3 col6\" >0.5590</td>\n",
       "            </tr>\n",
       "            <tr>\n",
       "                        <th id=\"T_3bdd27f1_bbd1_11eb_bd3b_54bf643b4dfelevel0_row4\" class=\"row_heading level0 row4\" >4</th>\n",
       "                        <td id=\"T_3bdd27f1_bbd1_11eb_bd3b_54bf643b4dferow4_col0\" class=\"data row4 col0\" >0.8543</td>\n",
       "                        <td id=\"T_3bdd27f1_bbd1_11eb_bd3b_54bf643b4dferow4_col1\" class=\"data row4 col1\" >0.8499</td>\n",
       "                        <td id=\"T_3bdd27f1_bbd1_11eb_bd3b_54bf643b4dferow4_col2\" class=\"data row4 col2\" >0.4375</td>\n",
       "                        <td id=\"T_3bdd27f1_bbd1_11eb_bd3b_54bf643b4dferow4_col3\" class=\"data row4 col3\" >0.7500</td>\n",
       "                        <td id=\"T_3bdd27f1_bbd1_11eb_bd3b_54bf643b4dferow4_col4\" class=\"data row4 col4\" >0.5526</td>\n",
       "                        <td id=\"T_3bdd27f1_bbd1_11eb_bd3b_54bf643b4dferow4_col5\" class=\"data row4 col5\" >0.4727</td>\n",
       "                        <td id=\"T_3bdd27f1_bbd1_11eb_bd3b_54bf643b4dferow4_col6\" class=\"data row4 col6\" >0.4972</td>\n",
       "            </tr>\n",
       "            <tr>\n",
       "                        <th id=\"T_3bdd27f1_bbd1_11eb_bd3b_54bf643b4dfelevel0_row5\" class=\"row_heading level0 row5\" >5</th>\n",
       "                        <td id=\"T_3bdd27f1_bbd1_11eb_bd3b_54bf643b4dferow5_col0\" class=\"data row5 col0\" >0.8671</td>\n",
       "                        <td id=\"T_3bdd27f1_bbd1_11eb_bd3b_54bf643b4dferow5_col1\" class=\"data row5 col1\" >0.8567</td>\n",
       "                        <td id=\"T_3bdd27f1_bbd1_11eb_bd3b_54bf643b4dferow5_col2\" class=\"data row5 col2\" >0.4583</td>\n",
       "                        <td id=\"T_3bdd27f1_bbd1_11eb_bd3b_54bf643b4dferow5_col3\" class=\"data row5 col3\" >0.8148</td>\n",
       "                        <td id=\"T_3bdd27f1_bbd1_11eb_bd3b_54bf643b4dferow5_col4\" class=\"data row5 col4\" >0.5867</td>\n",
       "                        <td id=\"T_3bdd27f1_bbd1_11eb_bd3b_54bf643b4dferow5_col5\" class=\"data row5 col5\" >0.5148</td>\n",
       "                        <td id=\"T_3bdd27f1_bbd1_11eb_bd3b_54bf643b4dferow5_col6\" class=\"data row5 col6\" >0.5451</td>\n",
       "            </tr>\n",
       "            <tr>\n",
       "                        <th id=\"T_3bdd27f1_bbd1_11eb_bd3b_54bf643b4dfelevel0_row6\" class=\"row_heading level0 row6\" >6</th>\n",
       "                        <td id=\"T_3bdd27f1_bbd1_11eb_bd3b_54bf643b4dferow6_col0\" class=\"data row6 col0\" >0.8757</td>\n",
       "                        <td id=\"T_3bdd27f1_bbd1_11eb_bd3b_54bf643b4dferow6_col1\" class=\"data row6 col1\" >0.8669</td>\n",
       "                        <td id=\"T_3bdd27f1_bbd1_11eb_bd3b_54bf643b4dferow6_col2\" class=\"data row6 col2\" >0.5278</td>\n",
       "                        <td id=\"T_3bdd27f1_bbd1_11eb_bd3b_54bf643b4dferow6_col3\" class=\"data row6 col3\" >0.8000</td>\n",
       "                        <td id=\"T_3bdd27f1_bbd1_11eb_bd3b_54bf643b4dferow6_col4\" class=\"data row6 col4\" >0.6360</td>\n",
       "                        <td id=\"T_3bdd27f1_bbd1_11eb_bd3b_54bf643b4dferow6_col5\" class=\"data row6 col5\" >0.5648</td>\n",
       "                        <td id=\"T_3bdd27f1_bbd1_11eb_bd3b_54bf643b4dferow6_col6\" class=\"data row6 col6\" >0.5826</td>\n",
       "            </tr>\n",
       "            <tr>\n",
       "                        <th id=\"T_3bdd27f1_bbd1_11eb_bd3b_54bf643b4dfelevel0_row7\" class=\"row_heading level0 row7\" >7</th>\n",
       "                        <td id=\"T_3bdd27f1_bbd1_11eb_bd3b_54bf643b4dferow7_col0\" class=\"data row7 col0\" >0.8471</td>\n",
       "                        <td id=\"T_3bdd27f1_bbd1_11eb_bd3b_54bf643b4dferow7_col1\" class=\"data row7 col1\" >0.8525</td>\n",
       "                        <td id=\"T_3bdd27f1_bbd1_11eb_bd3b_54bf643b4dferow7_col2\" class=\"data row7 col2\" >0.4097</td>\n",
       "                        <td id=\"T_3bdd27f1_bbd1_11eb_bd3b_54bf643b4dferow7_col3\" class=\"data row7 col3\" >0.7284</td>\n",
       "                        <td id=\"T_3bdd27f1_bbd1_11eb_bd3b_54bf643b4dferow7_col4\" class=\"data row7 col4\" >0.5244</td>\n",
       "                        <td id=\"T_3bdd27f1_bbd1_11eb_bd3b_54bf643b4dferow7_col5\" class=\"data row7 col5\" >0.4418</td>\n",
       "                        <td id=\"T_3bdd27f1_bbd1_11eb_bd3b_54bf643b4dferow7_col6\" class=\"data row7 col6\" >0.4677</td>\n",
       "            </tr>\n",
       "            <tr>\n",
       "                        <th id=\"T_3bdd27f1_bbd1_11eb_bd3b_54bf643b4dfelevel0_row8\" class=\"row_heading level0 row8\" >8</th>\n",
       "                        <td id=\"T_3bdd27f1_bbd1_11eb_bd3b_54bf643b4dferow8_col0\" class=\"data row8 col0\" >0.8671</td>\n",
       "                        <td id=\"T_3bdd27f1_bbd1_11eb_bd3b_54bf643b4dferow8_col1\" class=\"data row8 col1\" >0.8600</td>\n",
       "                        <td id=\"T_3bdd27f1_bbd1_11eb_bd3b_54bf643b4dferow8_col2\" class=\"data row8 col2\" >0.4931</td>\n",
       "                        <td id=\"T_3bdd27f1_bbd1_11eb_bd3b_54bf643b4dferow8_col3\" class=\"data row8 col3\" >0.7802</td>\n",
       "                        <td id=\"T_3bdd27f1_bbd1_11eb_bd3b_54bf643b4dferow8_col4\" class=\"data row8 col4\" >0.6043</td>\n",
       "                        <td id=\"T_3bdd27f1_bbd1_11eb_bd3b_54bf643b4dferow8_col5\" class=\"data row8 col5\" >0.5293</td>\n",
       "                        <td id=\"T_3bdd27f1_bbd1_11eb_bd3b_54bf643b4dferow8_col6\" class=\"data row8 col6\" >0.5494</td>\n",
       "            </tr>\n",
       "            <tr>\n",
       "                        <th id=\"T_3bdd27f1_bbd1_11eb_bd3b_54bf643b4dfelevel0_row9\" class=\"row_heading level0 row9\" >9</th>\n",
       "                        <td id=\"T_3bdd27f1_bbd1_11eb_bd3b_54bf643b4dferow9_col0\" class=\"data row9 col0\" >0.8755</td>\n",
       "                        <td id=\"T_3bdd27f1_bbd1_11eb_bd3b_54bf643b4dferow9_col1\" class=\"data row9 col1\" >0.8761</td>\n",
       "                        <td id=\"T_3bdd27f1_bbd1_11eb_bd3b_54bf643b4dferow9_col2\" class=\"data row9 col2\" >0.5069</td>\n",
       "                        <td id=\"T_3bdd27f1_bbd1_11eb_bd3b_54bf643b4dferow9_col3\" class=\"data row9 col3\" >0.8202</td>\n",
       "                        <td id=\"T_3bdd27f1_bbd1_11eb_bd3b_54bf643b4dferow9_col4\" class=\"data row9 col4\" >0.6266</td>\n",
       "                        <td id=\"T_3bdd27f1_bbd1_11eb_bd3b_54bf643b4dferow9_col5\" class=\"data row9 col5\" >0.5569</td>\n",
       "                        <td id=\"T_3bdd27f1_bbd1_11eb_bd3b_54bf643b4dferow9_col6\" class=\"data row9 col6\" >0.5801</td>\n",
       "            </tr>\n",
       "            <tr>\n",
       "                        <th id=\"T_3bdd27f1_bbd1_11eb_bd3b_54bf643b4dfelevel0_row10\" class=\"row_heading level0 row10\" >Mean</th>\n",
       "                        <td id=\"T_3bdd27f1_bbd1_11eb_bd3b_54bf643b4dferow10_col0\" class=\"data row10 col0\" >0.8634</td>\n",
       "                        <td id=\"T_3bdd27f1_bbd1_11eb_bd3b_54bf643b4dferow10_col1\" class=\"data row10 col1\" >0.8593</td>\n",
       "                        <td id=\"T_3bdd27f1_bbd1_11eb_bd3b_54bf643b4dferow10_col2\" class=\"data row10 col2\" >0.4664</td>\n",
       "                        <td id=\"T_3bdd27f1_bbd1_11eb_bd3b_54bf643b4dferow10_col3\" class=\"data row10 col3\" >0.7823</td>\n",
       "                        <td id=\"T_3bdd27f1_bbd1_11eb_bd3b_54bf643b4dferow10_col4\" class=\"data row10 col4\" >0.5840</td>\n",
       "                        <td id=\"T_3bdd27f1_bbd1_11eb_bd3b_54bf643b4dferow10_col5\" class=\"data row10 col5\" >0.5086</td>\n",
       "                        <td id=\"T_3bdd27f1_bbd1_11eb_bd3b_54bf643b4dferow10_col6\" class=\"data row10 col6\" >0.5332</td>\n",
       "            </tr>\n",
       "            <tr>\n",
       "                        <th id=\"T_3bdd27f1_bbd1_11eb_bd3b_54bf643b4dfelevel0_row11\" class=\"row_heading level0 row11\" >SD</th>\n",
       "                        <td id=\"T_3bdd27f1_bbd1_11eb_bd3b_54bf643b4dferow11_col0\" class=\"data row11 col0\" >0.0121</td>\n",
       "                        <td id=\"T_3bdd27f1_bbd1_11eb_bd3b_54bf643b4dferow11_col1\" class=\"data row11 col1\" >0.0098</td>\n",
       "                        <td id=\"T_3bdd27f1_bbd1_11eb_bd3b_54bf643b4dferow11_col2\" class=\"data row11 col2\" >0.0433</td>\n",
       "                        <td id=\"T_3bdd27f1_bbd1_11eb_bd3b_54bf643b4dferow11_col3\" class=\"data row11 col3\" >0.0395</td>\n",
       "                        <td id=\"T_3bdd27f1_bbd1_11eb_bd3b_54bf643b4dferow11_col4\" class=\"data row11 col4\" >0.0437</td>\n",
       "                        <td id=\"T_3bdd27f1_bbd1_11eb_bd3b_54bf643b4dferow11_col5\" class=\"data row11 col5\" >0.0491</td>\n",
       "                        <td id=\"T_3bdd27f1_bbd1_11eb_bd3b_54bf643b4dferow11_col6\" class=\"data row11 col6\" >0.0475</td>\n",
       "            </tr>\n",
       "    </tbody></table>"
      ],
      "text/plain": [
       "<pandas.io.formats.style.Styler at 0x1cb578a9be0>"
      ]
     },
     "metadata": {},
     "output_type": "display_data"
    }
   ],
   "source": [
    "classification_gb = classification.create_model('gbc')"
   ]
  },
  {
   "cell_type": "code",
   "execution_count": 77,
   "metadata": {},
   "outputs": [
    {
     "data": {
      "text/html": [
       "<div>\n",
       "<style scoped>\n",
       "    .dataframe tbody tr th:only-of-type {\n",
       "        vertical-align: middle;\n",
       "    }\n",
       "\n",
       "    .dataframe tbody tr th {\n",
       "        vertical-align: top;\n",
       "    }\n",
       "\n",
       "    .dataframe thead th {\n",
       "        text-align: right;\n",
       "    }\n",
       "</style>\n",
       "<table border=\"1\" class=\"dataframe\">\n",
       "  <thead>\n",
       "    <tr style=\"text-align: right;\">\n",
       "      <th></th>\n",
       "      <th>CreditScore</th>\n",
       "      <th>Geography</th>\n",
       "      <th>Gender</th>\n",
       "      <th>Age</th>\n",
       "      <th>Tenure</th>\n",
       "      <th>Balance</th>\n",
       "      <th>NumOfProducts</th>\n",
       "      <th>HasCrCard</th>\n",
       "      <th>IsActiveMember</th>\n",
       "      <th>EstimatedSalary</th>\n",
       "      <th>Exited</th>\n",
       "      <th>Label</th>\n",
       "      <th>Score</th>\n",
       "    </tr>\n",
       "  </thead>\n",
       "  <tbody>\n",
       "    <tr>\n",
       "      <th>0</th>\n",
       "      <td>619</td>\n",
       "      <td>0</td>\n",
       "      <td>0</td>\n",
       "      <td>42</td>\n",
       "      <td>2</td>\n",
       "      <td>0.00</td>\n",
       "      <td>1</td>\n",
       "      <td>1</td>\n",
       "      <td>1</td>\n",
       "      <td>101348.88</td>\n",
       "      <td>1</td>\n",
       "      <td>0</td>\n",
       "      <td>0.6779</td>\n",
       "    </tr>\n",
       "    <tr>\n",
       "      <th>1</th>\n",
       "      <td>608</td>\n",
       "      <td>2</td>\n",
       "      <td>0</td>\n",
       "      <td>41</td>\n",
       "      <td>1</td>\n",
       "      <td>83807.86</td>\n",
       "      <td>1</td>\n",
       "      <td>0</td>\n",
       "      <td>1</td>\n",
       "      <td>112542.58</td>\n",
       "      <td>0</td>\n",
       "      <td>0</td>\n",
       "      <td>0.8417</td>\n",
       "    </tr>\n",
       "    <tr>\n",
       "      <th>2</th>\n",
       "      <td>502</td>\n",
       "      <td>0</td>\n",
       "      <td>0</td>\n",
       "      <td>42</td>\n",
       "      <td>8</td>\n",
       "      <td>159660.80</td>\n",
       "      <td>3</td>\n",
       "      <td>1</td>\n",
       "      <td>0</td>\n",
       "      <td>113931.57</td>\n",
       "      <td>1</td>\n",
       "      <td>1</td>\n",
       "      <td>0.9181</td>\n",
       "    </tr>\n",
       "    <tr>\n",
       "      <th>3</th>\n",
       "      <td>699</td>\n",
       "      <td>0</td>\n",
       "      <td>0</td>\n",
       "      <td>39</td>\n",
       "      <td>1</td>\n",
       "      <td>0.00</td>\n",
       "      <td>2</td>\n",
       "      <td>0</td>\n",
       "      <td>0</td>\n",
       "      <td>93826.63</td>\n",
       "      <td>0</td>\n",
       "      <td>0</td>\n",
       "      <td>0.9295</td>\n",
       "    </tr>\n",
       "    <tr>\n",
       "      <th>4</th>\n",
       "      <td>850</td>\n",
       "      <td>2</td>\n",
       "      <td>0</td>\n",
       "      <td>43</td>\n",
       "      <td>2</td>\n",
       "      <td>125510.82</td>\n",
       "      <td>1</td>\n",
       "      <td>1</td>\n",
       "      <td>1</td>\n",
       "      <td>79084.10</td>\n",
       "      <td>0</td>\n",
       "      <td>0</td>\n",
       "      <td>0.8534</td>\n",
       "    </tr>\n",
       "    <tr>\n",
       "      <th>...</th>\n",
       "      <td>...</td>\n",
       "      <td>...</td>\n",
       "      <td>...</td>\n",
       "      <td>...</td>\n",
       "      <td>...</td>\n",
       "      <td>...</td>\n",
       "      <td>...</td>\n",
       "      <td>...</td>\n",
       "      <td>...</td>\n",
       "      <td>...</td>\n",
       "      <td>...</td>\n",
       "      <td>...</td>\n",
       "      <td>...</td>\n",
       "    </tr>\n",
       "    <tr>\n",
       "      <th>9995</th>\n",
       "      <td>771</td>\n",
       "      <td>0</td>\n",
       "      <td>1</td>\n",
       "      <td>39</td>\n",
       "      <td>5</td>\n",
       "      <td>0.00</td>\n",
       "      <td>2</td>\n",
       "      <td>1</td>\n",
       "      <td>0</td>\n",
       "      <td>96270.64</td>\n",
       "      <td>0</td>\n",
       "      <td>0</td>\n",
       "      <td>0.9647</td>\n",
       "    </tr>\n",
       "    <tr>\n",
       "      <th>9996</th>\n",
       "      <td>516</td>\n",
       "      <td>0</td>\n",
       "      <td>1</td>\n",
       "      <td>35</td>\n",
       "      <td>10</td>\n",
       "      <td>57369.61</td>\n",
       "      <td>1</td>\n",
       "      <td>1</td>\n",
       "      <td>1</td>\n",
       "      <td>101699.77</td>\n",
       "      <td>0</td>\n",
       "      <td>0</td>\n",
       "      <td>0.9325</td>\n",
       "    </tr>\n",
       "    <tr>\n",
       "      <th>9997</th>\n",
       "      <td>709</td>\n",
       "      <td>0</td>\n",
       "      <td>0</td>\n",
       "      <td>36</td>\n",
       "      <td>7</td>\n",
       "      <td>0.00</td>\n",
       "      <td>1</td>\n",
       "      <td>0</td>\n",
       "      <td>1</td>\n",
       "      <td>42085.58</td>\n",
       "      <td>1</td>\n",
       "      <td>0</td>\n",
       "      <td>0.8287</td>\n",
       "    </tr>\n",
       "    <tr>\n",
       "      <th>9998</th>\n",
       "      <td>772</td>\n",
       "      <td>1</td>\n",
       "      <td>1</td>\n",
       "      <td>42</td>\n",
       "      <td>3</td>\n",
       "      <td>75075.31</td>\n",
       "      <td>2</td>\n",
       "      <td>1</td>\n",
       "      <td>0</td>\n",
       "      <td>92888.52</td>\n",
       "      <td>1</td>\n",
       "      <td>0</td>\n",
       "      <td>0.8964</td>\n",
       "    </tr>\n",
       "    <tr>\n",
       "      <th>9999</th>\n",
       "      <td>792</td>\n",
       "      <td>0</td>\n",
       "      <td>0</td>\n",
       "      <td>28</td>\n",
       "      <td>4</td>\n",
       "      <td>130142.79</td>\n",
       "      <td>1</td>\n",
       "      <td>1</td>\n",
       "      <td>0</td>\n",
       "      <td>38190.78</td>\n",
       "      <td>0</td>\n",
       "      <td>0</td>\n",
       "      <td>0.8442</td>\n",
       "    </tr>\n",
       "  </tbody>\n",
       "</table>\n",
       "<p>10000 rows × 13 columns</p>\n",
       "</div>"
      ],
      "text/plain": [
       "      CreditScore  Geography  Gender  Age  Tenure    Balance  NumOfProducts  \\\n",
       "0             619          0       0   42       2       0.00              1   \n",
       "1             608          2       0   41       1   83807.86              1   \n",
       "2             502          0       0   42       8  159660.80              3   \n",
       "3             699          0       0   39       1       0.00              2   \n",
       "4             850          2       0   43       2  125510.82              1   \n",
       "...           ...        ...     ...  ...     ...        ...            ...   \n",
       "9995          771          0       1   39       5       0.00              2   \n",
       "9996          516          0       1   35      10   57369.61              1   \n",
       "9997          709          0       0   36       7       0.00              1   \n",
       "9998          772          1       1   42       3   75075.31              2   \n",
       "9999          792          0       0   28       4  130142.79              1   \n",
       "\n",
       "      HasCrCard  IsActiveMember  EstimatedSalary  Exited  Label   Score  \n",
       "0             1               1        101348.88       1      0  0.6779  \n",
       "1             0               1        112542.58       0      0  0.8417  \n",
       "2             1               0        113931.57       1      1  0.9181  \n",
       "3             0               0         93826.63       0      0  0.9295  \n",
       "4             1               1         79084.10       0      0  0.8534  \n",
       "...         ...             ...              ...     ...    ...     ...  \n",
       "9995          1               0         96270.64       0      0  0.9647  \n",
       "9996          1               1        101699.77       0      0  0.9325  \n",
       "9997          0               1         42085.58       1      0  0.8287  \n",
       "9998          1               0         92888.52       1      0  0.8964  \n",
       "9999          1               0         38190.78       0      0  0.8442  \n",
       "\n",
       "[10000 rows x 13 columns]"
      ]
     },
     "execution_count": 77,
     "metadata": {},
     "output_type": "execute_result"
    }
   ],
   "source": [
    "predictions = classification.predict_model(classification_gb, data=df1)\n",
    "# view the predictions\n",
    "predictions"
   ]
  },
  {
   "cell_type": "code",
   "execution_count": null,
   "metadata": {},
   "outputs": [],
   "source": []
  }
 ],
 "metadata": {
  "kernelspec": {
   "display_name": "Python 3",
   "language": "python",
   "name": "python3"
  },
  "language_info": {
   "codemirror_mode": {
    "name": "ipython",
    "version": 3
   },
   "file_extension": ".py",
   "mimetype": "text/x-python",
   "name": "python",
   "nbconvert_exporter": "python",
   "pygments_lexer": "ipython3",
   "version": "3.8.5"
  }
 },
 "nbformat": 4,
 "nbformat_minor": 4
}
